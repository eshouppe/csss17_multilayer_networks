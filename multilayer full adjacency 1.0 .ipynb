{
 "cells": [
  {
   "cell_type": "code",
   "execution_count": 1,
   "metadata": {
    "collapsed": true
   },
   "outputs": [],
   "source": [
    "#network X implementation\n",
    "\n",
    "#things to do:\n",
    "#bipartite projections\n",
    "#network of islands with (1/?) distance as edge weights -> most central, etc...\n",
    "#network of same species, but one node for each island \n",
    "\n",
    "#using https://gist.github.com/lsheble/fb0c48d2462e3cc3c8e0\n",
    "#https://networkx.github.io/documentation/networkx-1.10/reference/algorithms.bipartite.html\n",
    "#could redundancy be useful? \n",
    "\n",
    "#1.1 can do bipartite structure, but nodes are cramped\n",
    "#try https://stackoverflow.com/questions/3567018/how-can-i-specify-an-exact-output-size-for-my-networkx-graph\n",
    "\n",
    "#1.2\n",
    "#plots look good, trying to construct DFs\n",
    "\n",
    "#1.3\n",
    "#using pymnet\n",
    "#need to be careful with bipartite network parameters (don't know if they consider bipartite...)\n",
    "\n",
    "#1.4\n",
    "#trying multinetx also. had to change multinetx-master folder to just multinetx\n",
    "#looks like theres a problem when the number of nodes is not the same across layers\n",
    "\n",
    "#so, include all nodes in every graph, but then pass only the relevant ones in nodelist argument? \n",
    "\n",
    "#1.5 working on putting every node in every graph, will need to retain the original nodelists though\n",
    "\n",
    "#multinetx 1.0\n",
    "#trying a multinetx implementation \n",
    "\n",
    "#need to fill out adjacency matrices with all possible pollinators and plants\n",
    "#do rows first, then add 0 columns to each \n",
    "#need to retain original lists? \n",
    "\n",
    "#need to sort all DFs in the same way so nodes are labeled consistently when doing multiplex\n",
    "\n",
    "#1.1\n",
    "#procedure for appending rows seems good, now put into loop\n",
    "#using \"class\" column to record which kind of node. but dictionaries are random? so maybe not right \n",
    "#that approach didn't work \n",
    "#had to correct draw.pyc from circylar network to circular with text editor \n",
    "\n",
    "#1.2\n",
    "#looks like the layout is returning a dictionary\n",
    "#changing pos -> pos.values() to allow the pos[][] to work with diff kinds of layouts (circ, fred thing)\\\n",
    "\n",
    "\n",
    "#1.4 source code seems ok, now try to plot \n",
    "#plot looks good\n",
    "#now, need to hide nodes and (interlayer) edges that don't exist\n",
    "#should also do DF calculations for un-padded data\n",
    "\n",
    "#for bipartite layout, looks like the update is adding new \"named nodes\" instead of\n",
    "#changing the numerical ID node locations"
   ]
  },
  {
   "cell_type": "code",
   "execution_count": 2,
   "metadata": {
    "collapsed": false
   },
   "outputs": [
    {
     "name": "stderr",
     "output_type": "stream",
     "text": [
      "/usr/local/lib/python2.7/site-packages/matplotlib/__init__.py:1401: UserWarning:  This call to matplotlib.use() has no effect\n",
      "because the backend has already been chosen;\n",
      "matplotlib.use() must be called *before* pylab, matplotlib.pyplot,\n",
      "or matplotlib.backends is imported for the first time.\n",
      "\n",
      "  warnings.warn(_use_error_msg)\n"
     ]
    }
   ],
   "source": [
    "%matplotlib inline\n",
    "import pandas as pd\n",
    "import numpy as np\n",
    "import matplotlib.pyplot as plt\n",
    "import math\n",
    "%reload_ext autoreload\n",
    "%autoreload 2\n",
    "import scipy.stats as st\n",
    "import os\n",
    "from scipy.optimize import curve_fit\n",
    "import igraph as ig\n",
    "import csv\n",
    "import networkx as nx\n",
    "from networkx.algorithms import bipartite\n",
    "\n",
    "import sys\n",
    "sys.path.append('/Users/ahazarie/Desktop/U of R/Fall 2016/R-S/Current stuff/CSSS/_multilayer_graphs/bolozna-multilayer-networks-library-cedaa7c4aefe')\n",
    "import pymnet as pm\n",
    "\n",
    "\n",
    "\n",
    "\n",
    "sys.path.append('/Users/ahazarie/Desktop/U of R/Fall 2016/R-S/Current stuff/CSSS/_multilayer_graphs')\n",
    "import multinetx as mx\n"
   ]
  },
  {
   "cell_type": "code",
   "execution_count": 3,
   "metadata": {
    "collapsed": true
   },
   "outputs": [],
   "source": [
    "#from https://gist.github.com/lsheble/fb0c48d2462e3cc3c8e0\n",
    "def bipartite(df):\n",
    "    B = nx.Graph()\n",
    "    for i in df.index:\n",
    "        B.add_node(i, bipartite=0)\n",
    "        for j in df.columns:\n",
    "            B.add_node(j, bipartite=1)\n",
    "            if (df.ix[i,j] > 0):\n",
    "                B.add_edge(i, j, weight=df.ix[i,j])\n",
    "    return B\n"
   ]
  },
  {
   "cell_type": "code",
   "execution_count": 4,
   "metadata": {
    "collapsed": false
   },
   "outputs": [],
   "source": [
    "adj = []\n",
    "#adj.append(pd.read_csv(\"/Users/ahazarie/Desktop/U of R/Fall 2016/R-S/Current stuff/CSSS/_multilayer_graphs/sets/Plant_Pollinator_Distance_Network/Site1_WesternSahara1.csv\"))\n",
    "#adj.append(pd.read_csv(\"/Users/ahazarie/Desktop/U of R/Fall 2016/R-S/Current stuff/CSSS/_multilayer_graphs/sets/Plant_Pollinator_Distance_Network/Site2_WesternSahara2.csv\"))\n",
    "adj.append(pd.read_csv(\"/Users/ahazarie/Desktop/U of R/Fall 2016/R-S/Current stuff/CSSS/_multilayer_graphs/sets/Plant_Pollinator_Distance_Network/Site3_Fuerteventura1.csv\"))\n",
    "adj.append(pd.read_csv(\"/Users/ahazarie/Desktop/U of R/Fall 2016/R-S/Current stuff/CSSS/_multilayer_graphs/sets/Plant_Pollinator_Distance_Network/Site4_Fuerteventura2.csv\"))\n",
    "adj.append(pd.read_csv(\"/Users/ahazarie/Desktop/U of R/Fall 2016/R-S/Current stuff/CSSS/_multilayer_graphs/sets/Plant_Pollinator_Distance_Network/Site5_GranCanaria1.csv\"))\n",
    "adj.append(pd.read_csv(\"/Users/ahazarie/Desktop/U of R/Fall 2016/R-S/Current stuff/CSSS/_multilayer_graphs/sets/Plant_Pollinator_Distance_Network/Site6_GranCanaria2.csv\"))\n",
    "adj.append(pd.read_csv(\"/Users/ahazarie/Desktop/U of R/Fall 2016/R-S/Current stuff/CSSS/_multilayer_graphs/sets/Plant_Pollinator_Distance_Network/Site7_TenerifeSouth1.csv\"))\n",
    "adj.append(pd.read_csv(\"/Users/ahazarie/Desktop/U of R/Fall 2016/R-S/Current stuff/CSSS/_multilayer_graphs/sets/Plant_Pollinator_Distance_Network/Site8_TenerifeSouth2.csv\"))\n",
    "adj.append(pd.read_csv(\"/Users/ahazarie/Desktop/U of R/Fall 2016/R-S/Current stuff/CSSS/_multilayer_graphs/sets/Plant_Pollinator_Distance_Network/Site9_TenerifeTeno1.csv\"))\n",
    "adj.append(pd.read_csv(\"/Users/ahazarie/Desktop/U of R/Fall 2016/R-S/Current stuff/CSSS/_multilayer_graphs/sets/Plant_Pollinator_Distance_Network/Site10_TenerifeTeno2.csv\"))\n",
    "adj.append(pd.read_csv(\"/Users/ahazarie/Desktop/U of R/Fall 2016/R-S/Current stuff/CSSS/_multilayer_graphs/sets/Plant_Pollinator_Distance_Network/Site11_Gomera1.csv\"))\n",
    "adj.append(pd.read_csv(\"/Users/ahazarie/Desktop/U of R/Fall 2016/R-S/Current stuff/CSSS/_multilayer_graphs/sets/Plant_Pollinator_Distance_Network/Site12_Gomera2.csv\"))\n",
    "adj.append(pd.read_csv(\"/Users/ahazarie/Desktop/U of R/Fall 2016/R-S/Current stuff/CSSS/_multilayer_graphs/sets/Plant_Pollinator_Distance_Network/Site13_Hierro1.csv\"))\n",
    "adj.append(pd.read_csv(\"/Users/ahazarie/Desktop/U of R/Fall 2016/R-S/Current stuff/CSSS/_multilayer_graphs/sets/Plant_Pollinator_Distance_Network/Site14_Hierro2.csv\"))"
   ]
  },
  {
   "cell_type": "code",
   "execution_count": 5,
   "metadata": {
    "collapsed": true
   },
   "outputs": [],
   "source": [
    "#base graphs before padding\n",
    "adj_base = list(adj)"
   ]
  },
  {
   "cell_type": "code",
   "execution_count": 6,
   "metadata": {
    "collapsed": false
   },
   "outputs": [],
   "source": [
    "cols = []\n",
    "for i in range(len(adj)):\n",
    "    cols.append(adj[i].columns.tolist())\n",
    "cols = set([item for sublist in cols for item in sublist])\n",
    "\n",
    "rows = []\n",
    "for i in range(len(adj)):\n",
    "    rows.append(adj[i].index.tolist())\n",
    "rows = set([item for sublist in rows for item in sublist])"
   ]
  },
  {
   "cell_type": "code",
   "execution_count": 7,
   "metadata": {
    "collapsed": false
   },
   "outputs": [],
   "source": [
    "#pad out rows\n",
    "for i in range(len(adj)):\n",
    "    to_app = list(rows - set(adj[i].index.tolist()))\n",
    "    for j in range(len(to_app)):\n",
    "        name = to_app[j]\n",
    "        series = pd.Series(list(np.zeros(len(adj[i].columns.tolist()))), index = adj[i].columns.tolist())\n",
    "        series.name = name\n",
    "        adj[i] = adj[i].append(series)\n",
    "\n",
    "#rows looks good, will have to sort later\n",
    "#now columns\n",
    "#looks good!\n",
    "\n",
    "for i in range(len(adj)):\n",
    "    to_app = list(cols - set(adj[i].columns.tolist()))\n",
    "    for j in range(len(to_app)):\n",
    "        adj[i][to_app[j]] = 0"
   ]
  },
  {
   "cell_type": "code",
   "execution_count": 8,
   "metadata": {
    "collapsed": false
   },
   "outputs": [],
   "source": [
    "#all sorted, so hopefully now the node indexing will be consistent\n",
    "for i in range(len(adj)):\n",
    "    adj[i] = adj[i].sort_index()\n",
    "    adj[i] = adj[i].sort_index(axis = 1)"
   ]
  },
  {
   "cell_type": "code",
   "execution_count": 21,
   "metadata": {
    "collapsed": false
   },
   "outputs": [
    {
     "data": {
      "text/plain": [
       "array([ True,  True,  True,  True,  True,  True,  True,  True,  True,\n",
       "        True,  True,  True,  True,  True,  True,  True,  True,  True,\n",
       "        True,  True,  True,  True,  True,  True,  True,  True,  True,\n",
       "        True,  True,  True,  True,  True,  True,  True], dtype=bool)"
      ]
     },
     "execution_count": 21,
     "metadata": {},
     "output_type": "execute_result"
    }
   ],
   "source": [
    "adj[0].columns == adj[2].columns"
   ]
  }
 ],
 "metadata": {
  "kernelspec": {
   "display_name": "Python 2",
   "language": "python",
   "name": "python2"
  },
  "language_info": {
   "codemirror_mode": {
    "name": "ipython",
    "version": 2
   },
   "file_extension": ".py",
   "mimetype": "text/x-python",
   "name": "python",
   "nbconvert_exporter": "python",
   "pygments_lexer": "ipython2",
   "version": "2.7.10"
  }
 },
 "nbformat": 4,
 "nbformat_minor": 1
}
