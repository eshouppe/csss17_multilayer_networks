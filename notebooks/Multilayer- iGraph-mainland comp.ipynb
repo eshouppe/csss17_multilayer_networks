{
 "cells": [
  {
   "cell_type": "code",
   "execution_count": 1,
   "metadata": {
    "collapsed": true
   },
   "outputs": [],
   "source": [
    "#1.1 has all networks imported \n",
    "#graphs 0 and 1 don't seem to work... \n",
    "\n",
    "#1.2\n",
    "#things to do:\n",
    "#bipartite projections\n",
    "#network of islands with (1/?) distance as edge weights -> most central, etc...\n",
    "#network of same species, but one node for each island \n",
    "#networkx?\n",
    "\n",
    "#igraph 1.0\n",
    "\n",
    "#using igraph here \n",
    "\n",
    "#1.1\n",
    "#implementing some analysis examples\n",
    "#need to incorporate weights, using \n",
    "#https://stackoverflow.com/questions/29655111/igraph-graph-from-numpy-or-pandas-adjacency-matrix\n",
    "\n",
    "#sahara data set \"Hym. Waiting�.\" causing problems?\n",
    "#troubleshooting\n",
    "#looks like it works if we just use the saharas...\n",
    "#something's wrong. all \"false\" and no trues\n",
    "#weight method is incorrect, matrices are different \n",
    "\n",
    "#this weight method seems ok. need to do sanity checks later \n",
    "\n",
    "\n",
    "#something is wrong with the indexing?\n",
    "\n",
    "#big problem! something's wrong with the node labelling index technique. nodes dont match \n",
    "#let's leverage the get._incidence method. looks like it tells me how to label em! \n",
    "#http://igraph.org/python/doc/igraph.Graph-class.html#get_incidence\n",
    "#so label rows first, then columns\n",
    "\n",
    "#looks like the weight-combining of the multi edges was screwing it up! \n",
    "\n",
    "#1.6 \n",
    "#hopefully this'll do it... \n",
    "#ok, looks good. some caveats: degree won't return weights\n",
    "#need to use strength and pass the edge weights \n",
    "\n",
    "\n",
    "#to examine, try \n",
    "#zip(g[4].vs['label'], g[4].strength(weights = g[4].es['weight']))\n",
    "#and\n",
    "#adj[4]\n",
    "\n",
    "\n",
    "#2.0\n",
    "#seems good, had to nix the neighbor finding function for now (indexing wasn't right)\n",
    "#may have to revisit previous codes (ie multinetx, etc...) to patch up the labeling and weights, etc...\n",
    "\n",
    "#2.1 incorporating the location network \n",
    "\n",
    "#2.2 zhiya's merge tech solved everything in one instant \n",
    "\n",
    "#2.3 trying to incorporate multiple kinds of edges in the location network \n",
    "\n",
    "#ok, can add edges with separate weights in addition to the originals. \n",
    "#will call the #similiar species weight2\n",
    "\n",
    "\n",
    "#2.5 making more readable\n",
    "\n",
    "#2.6 targeted analysis"
   ]
  },
  {
   "cell_type": "code",
   "execution_count": 2,
   "metadata": {
    "collapsed": true
   },
   "outputs": [],
   "source": [
    "%matplotlib inline\n",
    "import pandas as pd\n",
    "import numpy as np\n",
    "import matplotlib.pyplot as plt\n",
    "import math\n",
    "%reload_ext autoreload\n",
    "%autoreload 2\n",
    "import scipy.stats as st\n",
    "import os\n",
    "from scipy.optimize import curve_fit\n",
    "import igraph as ig\n",
    "import csv\n",
    "import powerlaw as pl\n",
    "\n",
    "import itertools as it"
   ]
  },
  {
   "cell_type": "markdown",
   "metadata": {},
   "source": [
    "I'd ran into trouble with consistency in the node/network labeling before, so these are steps to make sure that\n",
    "the order of the nodes in the network is consistent with the way they're imported, etc...\n",
    "\n",
    "Import the distances between the islands into a dataframe, and create a graph that uses 1/distance as the edgeweights.\n",
    "\n",
    "Then, create a dataframe that contains measures from the location graph"
   ]
  },
  {
   "cell_type": "code",
   "execution_count": 3,
   "metadata": {
    "collapsed": true
   },
   "outputs": [],
   "source": [
    "data = pd.read_csv(\"/Users/ahazarie/Desktop/U of R/Fall 2016/R-S/Current stuff/CSSS/_multilayer_graphs/sets/Plant_Pollinator_Distance_Network/Distance_between_sites_Dryad.csv\")\n",
    "dict1 = {'WesternSahara_1':0,\n",
    "         'WesternSahara_2':1,\n",
    "         'Fuerteventura_1':2,\n",
    "         'Fuerteventura_2':3,\n",
    "         'GranCanaria_1':4,\n",
    "         'GranCanaria_2':5,\n",
    "         'TenerifeSouth_1':6,\n",
    "         'TenerifeSouth_2':7,\n",
    "         'TenerifeTeno_1':8,\n",
    "         'TenerifeTeno_2':9,\n",
    "         'Gomera_1':10,\n",
    "         'Gomera_2':11,\n",
    "         'Hierro_1':12,\n",
    "         'Hierro_2':13}\n",
    "\n",
    "\n",
    "data.columns = ['From','To','Dist_m']\n",
    "data['1/dist'] = 1.0 / data['Dist_m']\n",
    "data = data.groupby('Dist_m').first().reset_index()\n",
    "\n",
    "nodes = list(set(data['From'].append(data['To'])))\n",
    "node_ids = range(len(nodes))\n",
    "#edges and weights imported in same order, so should be consistent\n",
    "edgelist = zip(data['From'],data['To'])\n",
    "weights = data['1/dist']\n",
    "edge_ids = []\n",
    "\n",
    "for i in range(len(edgelist)):\n",
    "    edge_ids.append((dict1[edgelist[i][0]],dict1[edgelist[i][1]]))\n",
    "g_locs = ig.Graph()\n",
    "g_locs.add_vertices(node_ids)\n",
    "g_locs.add_edges(edge_ids)\n",
    "g_locs.es['weight'] = weights\n",
    "g_locs.es[\"width\"] = ig.rescale(g_locs.es[\"weight\"], out_range=(0.5, 3))\n",
    "\n",
    "g_locs.vs['label'] =['WesternSahara_1',\n",
    "         'WesternSahara_2',\n",
    "         'Fuerteventura_1',\n",
    "         'Fuerteventura_2',\n",
    "         'GranCanaria_1',\n",
    "         'GranCanaria_2',\n",
    "         'TenerifeSouth_1',\n",
    "         'TenerifeSouth_2',\n",
    "         'TenerifeTeno_1',\n",
    "         'TenerifeTeno_2',\n",
    "         'Gomera_1',\n",
    "         'Gomera_2',\n",
    "         'Hierro_1',\n",
    "         'Hierro_2']\n",
    "\n",
    "loc_df = pd.DataFrame({'island':g_locs.vs['name'],\n",
    "                   'island_name': g_locs.vs['label'],\n",
    "                   'betweenness':g_locs.betweenness(weights = g_locs.es['weight']),\n",
    "                   'pagerank': g_locs.pagerank(weights = g_locs.es['weight']),\n",
    "                   'strength':g_locs.strength(weights = g_locs.es['weight'])\n",
    "                   \n",
    "                  })"
   ]
  },
  {
   "cell_type": "markdown",
   "metadata": {},
   "source": [
    "Import the adjacency matrices (the order is important, it matches the dictionary defined in the last slide.)"
   ]
  },
  {
   "cell_type": "code",
   "execution_count": 4,
   "metadata": {
    "collapsed": false
   },
   "outputs": [],
   "source": [
    "adj = []\n",
    "adj.append(pd.read_csv(\"/Users/ahazarie/Desktop/U of R/Fall 2016/R-S/Current stuff/CSSS/_multilayer_graphs/sets/Plant_Pollinator_Distance_Network/Site1_WesternSahara1.csv\"))\n",
    "adj.append(pd.read_csv(\"/Users/ahazarie/Desktop/U of R/Fall 2016/R-S/Current stuff/CSSS/_multilayer_graphs/sets/Plant_Pollinator_Distance_Network/Site2_WesternSahara2.csv\"))\n",
    "adj.append(pd.read_csv(\"/Users/ahazarie/Desktop/U of R/Fall 2016/R-S/Current stuff/CSSS/_multilayer_graphs/sets/Plant_Pollinator_Distance_Network/Site3_Fuerteventura1.csv\"))\n",
    "adj.append(pd.read_csv(\"/Users/ahazarie/Desktop/U of R/Fall 2016/R-S/Current stuff/CSSS/_multilayer_graphs/sets/Plant_Pollinator_Distance_Network/Site4_Fuerteventura2.csv\"))\n",
    "adj.append(pd.read_csv(\"/Users/ahazarie/Desktop/U of R/Fall 2016/R-S/Current stuff/CSSS/_multilayer_graphs/sets/Plant_Pollinator_Distance_Network/Site5_GranCanaria1.csv\"))\n",
    "adj.append(pd.read_csv(\"/Users/ahazarie/Desktop/U of R/Fall 2016/R-S/Current stuff/CSSS/_multilayer_graphs/sets/Plant_Pollinator_Distance_Network/Site6_GranCanaria2.csv\"))\n",
    "adj.append(pd.read_csv(\"/Users/ahazarie/Desktop/U of R/Fall 2016/R-S/Current stuff/CSSS/_multilayer_graphs/sets/Plant_Pollinator_Distance_Network/Site7_TenerifeSouth1.csv\"))\n",
    "adj.append(pd.read_csv(\"/Users/ahazarie/Desktop/U of R/Fall 2016/R-S/Current stuff/CSSS/_multilayer_graphs/sets/Plant_Pollinator_Distance_Network/Site8_TenerifeSouth2.csv\"))\n",
    "adj.append(pd.read_csv(\"/Users/ahazarie/Desktop/U of R/Fall 2016/R-S/Current stuff/CSSS/_multilayer_graphs/sets/Plant_Pollinator_Distance_Network/Site9_TenerifeTeno1.csv\"))\n",
    "adj.append(pd.read_csv(\"/Users/ahazarie/Desktop/U of R/Fall 2016/R-S/Current stuff/CSSS/_multilayer_graphs/sets/Plant_Pollinator_Distance_Network/Site10_TenerifeTeno2.csv\"))\n",
    "adj.append(pd.read_csv(\"/Users/ahazarie/Desktop/U of R/Fall 2016/R-S/Current stuff/CSSS/_multilayer_graphs/sets/Plant_Pollinator_Distance_Network/Site11_Gomera1.csv\"))\n",
    "adj.append(pd.read_csv(\"/Users/ahazarie/Desktop/U of R/Fall 2016/R-S/Current stuff/CSSS/_multilayer_graphs/sets/Plant_Pollinator_Distance_Network/Site12_Gomera2.csv\"))\n",
    "adj.append(pd.read_csv(\"/Users/ahazarie/Desktop/U of R/Fall 2016/R-S/Current stuff/CSSS/_multilayer_graphs/sets/Plant_Pollinator_Distance_Network/Site13_Hierro1.csv\"))\n",
    "adj.append(pd.read_csv(\"/Users/ahazarie/Desktop/U of R/Fall 2016/R-S/Current stuff/CSSS/_multilayer_graphs/sets/Plant_Pollinator_Distance_Network/Site14_Hierro2.csv\"))"
   ]
  },
  {
   "cell_type": "markdown",
   "metadata": {},
   "source": [
    "Construct networks from the adjacency matrices. To get the edgeweights:\n",
    "The graph will create edges between nodes corresponding to the value in the adjacency cell.\n",
    "To create a weighted edge, give each edge a weight 1, then collapse them using a sum to end up with a weighted edge between two nodes.\n",
    "\n",
    "Using the get_incident method on graphs, we can find the order that the nodes are in within the graph object.\n",
    "This should match the all_names list constructed, so use this method to assign attributes to the nodes (to make sure that plants are one color, bees another, etc...)\n",
    "\n"
   ]
  },
  {
   "cell_type": "code",
   "execution_count": 5,
   "metadata": {
    "collapsed": false
   },
   "outputs": [],
   "source": [
    "#name nodes\n",
    "#keep a counter for j and k, j for red nodes and k for blue\n",
    "#red nodes use column list, blue nodes use index\n",
    "\n",
    "#assumes that the names are in order... (they are, by the get_incident function)\n",
    "\n",
    "g = []\n",
    "\n",
    "\n",
    "for i in range(len(adj)):\n",
    "    \n",
    "    g.append(ig.Graph.Incidence(adj[i].values.tolist(),multiple = True))\n",
    "    g[i].es['weight'] = 1\n",
    "    g[i] = g[i].simplify(combine_edges = {'weight':'sum'})\n",
    "    all_names = np.append(adj[i].index.values, adj[i].columns.values)\n",
    "    \n",
    "    \n",
    "    for j in range(len(all_names)):\n",
    "        g[i].vs[j]['label'] = all_names[j]\n",
    "\n",
    "    j = 0\n",
    "    k = 0\n",
    "    for l in range(g[i].vcount()):\n",
    "        if (g[i].vs[l]['type']):\n",
    "            g[i].vs[l]['color'] = 'red'\n",
    "            j+= 1\n",
    "        else:\n",
    "            g[i].vs[l]['color'] = 'blue'\n",
    "            k+=1 \n",
    "\n"
   ]
  },
  {
   "cell_type": "markdown",
   "metadata": {},
   "source": [
    "With the graphs created, create dataframes containing useful measures from each of them. \n",
    "\n",
    "NOTE: These are the un-projected graph metrics. "
   ]
  },
  {
   "cell_type": "code",
   "execution_count": 6,
   "metadata": {
    "collapsed": false
   },
   "outputs": [],
   "source": [
    "df = []\n",
    "for i in range(len(g)):\n",
    "    \n",
    "    df.append(pd.DataFrame({'name': g[i].vs['label'], \n",
    "                            'type': g[i].vs['type'], \n",
    "                            'betweenness': g[i].betweenness(weights = g[i].es['weight']),\n",
    "                           'degree': g[i].degree(),\n",
    "                            'strength': g[i].strength(weights = g[i].es['weight']),\n",
    "                            'pagerank': g[i].pagerank(weights = g[i].es['weight']),\n",
    "                            'network': i\n",
    "                           }))\n",
    "    \n",
    "    df[i]['id'] = df[i].index.tolist()"
   ]
  },
  {
   "cell_type": "markdown",
   "metadata": {},
   "source": [
    "Create a total dataframe out of the dataframes for each graph.\n",
    "This allows more of a \"global\" analysis approach. \n"
   ]
  },
  {
   "cell_type": "code",
   "execution_count": 7,
   "metadata": {
    "collapsed": false
   },
   "outputs": [],
   "source": [
    "all_df = pd.DataFrame()\n",
    "for i in range(len(df)):\n",
    "    all_df = all_df.append(df[i])\n",
    "all_df['num_occurences'] = 0\n",
    "all_df['num_occurences'] = all_df.groupby('name').transform(\"count\")\n",
    "#all_df = all_df.reset_index()"
   ]
  },
  {
   "cell_type": "code",
   "execution_count": 8,
   "metadata": {
    "collapsed": false
   },
   "outputs": [
    {
     "data": {
      "text/html": [
       "<div>\n",
       "<table border=\"1\" class=\"dataframe\">\n",
       "  <thead>\n",
       "    <tr style=\"text-align: right;\">\n",
       "      <th></th>\n",
       "      <th>betweenness</th>\n",
       "      <th>degree</th>\n",
       "      <th>name</th>\n",
       "      <th>pagerank</th>\n",
       "      <th>strength</th>\n",
       "      <th>type</th>\n",
       "      <th>id</th>\n",
       "      <th>num_occurences</th>\n",
       "    </tr>\n",
       "    <tr>\n",
       "      <th>network</th>\n",
       "      <th></th>\n",
       "      <th></th>\n",
       "      <th></th>\n",
       "      <th></th>\n",
       "      <th></th>\n",
       "      <th></th>\n",
       "      <th></th>\n",
       "      <th></th>\n",
       "    </tr>\n",
       "  </thead>\n",
       "  <tbody>\n",
       "    <tr>\n",
       "      <th>0</th>\n",
       "      <td>510.500000</td>\n",
       "      <td>16</td>\n",
       "      <td>Euphorbia balsamifera (m)</td>\n",
       "      <td>0.155922</td>\n",
       "      <td>118.0</td>\n",
       "      <td>True</td>\n",
       "      <td>39</td>\n",
       "      <td>14</td>\n",
       "    </tr>\n",
       "    <tr>\n",
       "      <th>1</th>\n",
       "      <td>1039.633333</td>\n",
       "      <td>22</td>\n",
       "      <td>Euphorbia balsamifera (m)</td>\n",
       "      <td>0.156012</td>\n",
       "      <td>92.0</td>\n",
       "      <td>True</td>\n",
       "      <td>47</td>\n",
       "      <td>14</td>\n",
       "    </tr>\n",
       "    <tr>\n",
       "      <th>2</th>\n",
       "      <td>308.500000</td>\n",
       "      <td>15</td>\n",
       "      <td>Euphorbia balsamifera (m)</td>\n",
       "      <td>0.172856</td>\n",
       "      <td>134.0</td>\n",
       "      <td>True</td>\n",
       "      <td>40</td>\n",
       "      <td>14</td>\n",
       "    </tr>\n",
       "    <tr>\n",
       "      <th>3</th>\n",
       "      <td>294.900000</td>\n",
       "      <td>16</td>\n",
       "      <td>Euphorbia balsamifera (m)</td>\n",
       "      <td>0.170886</td>\n",
       "      <td>183.0</td>\n",
       "      <td>True</td>\n",
       "      <td>39</td>\n",
       "      <td>14</td>\n",
       "    </tr>\n",
       "    <tr>\n",
       "      <th>4</th>\n",
       "      <td>255.600000</td>\n",
       "      <td>13</td>\n",
       "      <td>Euphorbia balsamifera (m)</td>\n",
       "      <td>0.132892</td>\n",
       "      <td>144.0</td>\n",
       "      <td>True</td>\n",
       "      <td>36</td>\n",
       "      <td>14</td>\n",
       "    </tr>\n",
       "    <tr>\n",
       "      <th>5</th>\n",
       "      <td>135.000000</td>\n",
       "      <td>7</td>\n",
       "      <td>Camponotus feae</td>\n",
       "      <td>0.158817</td>\n",
       "      <td>177.0</td>\n",
       "      <td>False</td>\n",
       "      <td>10</td>\n",
       "      <td>11</td>\n",
       "    </tr>\n",
       "    <tr>\n",
       "      <th>6</th>\n",
       "      <td>274.024675</td>\n",
       "      <td>12</td>\n",
       "      <td>Camponotus feae</td>\n",
       "      <td>0.206666</td>\n",
       "      <td>187.0</td>\n",
       "      <td>False</td>\n",
       "      <td>9</td>\n",
       "      <td>11</td>\n",
       "    </tr>\n",
       "    <tr>\n",
       "      <th>7</th>\n",
       "      <td>779.350000</td>\n",
       "      <td>16</td>\n",
       "      <td>Argyranthemum frutescens</td>\n",
       "      <td>0.103696</td>\n",
       "      <td>97.0</td>\n",
       "      <td>True</td>\n",
       "      <td>54</td>\n",
       "      <td>6</td>\n",
       "    </tr>\n",
       "    <tr>\n",
       "      <th>8</th>\n",
       "      <td>152.000000</td>\n",
       "      <td>12</td>\n",
       "      <td>Camponotus feae</td>\n",
       "      <td>0.153488</td>\n",
       "      <td>157.0</td>\n",
       "      <td>False</td>\n",
       "      <td>7</td>\n",
       "      <td>11</td>\n",
       "    </tr>\n",
       "    <tr>\n",
       "      <th>9</th>\n",
       "      <td>712.083333</td>\n",
       "      <td>15</td>\n",
       "      <td>Camponotus feae</td>\n",
       "      <td>0.136175</td>\n",
       "      <td>195.0</td>\n",
       "      <td>False</td>\n",
       "      <td>7</td>\n",
       "      <td>11</td>\n",
       "    </tr>\n",
       "    <tr>\n",
       "      <th>10</th>\n",
       "      <td>42.000000</td>\n",
       "      <td>6</td>\n",
       "      <td>Camponotus feae</td>\n",
       "      <td>0.125750</td>\n",
       "      <td>87.0</td>\n",
       "      <td>False</td>\n",
       "      <td>7</td>\n",
       "      <td>11</td>\n",
       "    </tr>\n",
       "    <tr>\n",
       "      <th>11</th>\n",
       "      <td>0.000000</td>\n",
       "      <td>7</td>\n",
       "      <td>Camponotus feae</td>\n",
       "      <td>0.100264</td>\n",
       "      <td>109.0</td>\n",
       "      <td>False</td>\n",
       "      <td>9</td>\n",
       "      <td>11</td>\n",
       "    </tr>\n",
       "    <tr>\n",
       "      <th>12</th>\n",
       "      <td>39.000000</td>\n",
       "      <td>7</td>\n",
       "      <td>Camponotus feae</td>\n",
       "      <td>0.200045</td>\n",
       "      <td>142.0</td>\n",
       "      <td>False</td>\n",
       "      <td>1</td>\n",
       "      <td>11</td>\n",
       "    </tr>\n",
       "    <tr>\n",
       "      <th>13</th>\n",
       "      <td>73.000000</td>\n",
       "      <td>8</td>\n",
       "      <td>Camponotus feae</td>\n",
       "      <td>0.187591</td>\n",
       "      <td>138.0</td>\n",
       "      <td>False</td>\n",
       "      <td>2</td>\n",
       "      <td>11</td>\n",
       "    </tr>\n",
       "  </tbody>\n",
       "</table>\n",
       "</div>"
      ],
      "text/plain": [
       "         betweenness  degree                       name  pagerank  strength  \\\n",
       "network                                                                       \n",
       "0         510.500000      16  Euphorbia balsamifera (m)  0.155922     118.0   \n",
       "1        1039.633333      22  Euphorbia balsamifera (m)  0.156012      92.0   \n",
       "2         308.500000      15  Euphorbia balsamifera (m)  0.172856     134.0   \n",
       "3         294.900000      16  Euphorbia balsamifera (m)  0.170886     183.0   \n",
       "4         255.600000      13  Euphorbia balsamifera (m)  0.132892     144.0   \n",
       "5         135.000000       7            Camponotus feae  0.158817     177.0   \n",
       "6         274.024675      12            Camponotus feae  0.206666     187.0   \n",
       "7         779.350000      16   Argyranthemum frutescens  0.103696      97.0   \n",
       "8         152.000000      12            Camponotus feae  0.153488     157.0   \n",
       "9         712.083333      15            Camponotus feae  0.136175     195.0   \n",
       "10         42.000000       6            Camponotus feae  0.125750      87.0   \n",
       "11          0.000000       7            Camponotus feae  0.100264     109.0   \n",
       "12         39.000000       7            Camponotus feae  0.200045     142.0   \n",
       "13         73.000000       8            Camponotus feae  0.187591     138.0   \n",
       "\n",
       "          type  id  num_occurences  \n",
       "network                             \n",
       "0         True  39              14  \n",
       "1         True  47              14  \n",
       "2         True  40              14  \n",
       "3         True  39              14  \n",
       "4         True  36              14  \n",
       "5        False  10              11  \n",
       "6        False   9              11  \n",
       "7         True  54               6  \n",
       "8        False   7              11  \n",
       "9        False   7              11  \n",
       "10       False   7              11  \n",
       "11       False   9              11  \n",
       "12       False   1              11  \n",
       "13       False   2              11  "
      ]
     },
     "execution_count": 8,
     "metadata": {},
     "output_type": "execute_result"
    }
   ],
   "source": [
    "#the highest strength nodes in each network\n",
    "all_df.sort_values(['network','strength'],ascending = False).groupby('network').first()\n",
    "\n",
    "\n",
    "#for the same thing, but restricted to different types\n",
    "#all_df[all_df['type'] == False].sort_values(['network','strength'],ascending = False).groupby('network').first()\n",
    "#or \n",
    "#all_df[all_df['type'] == True].sort_values(['network','strength'],ascending = False).groupby('network').first()"
   ]
  },
  {
   "cell_type": "code",
   "execution_count": 9,
   "metadata": {
    "collapsed": false
   },
   "outputs": [
    {
     "data": {
      "text/plain": [
       "<matplotlib.text.Text at 0x106e5a910>"
      ]
     },
     "execution_count": 9,
     "metadata": {},
     "output_type": "execute_result"
    },
    {
     "data": {
      "image/png": "[encoded data removed]",
      "text/plain": [
       "<matplotlib.figure.Figure at 0x106e2c4d0>"
      ]
     },
     "metadata": {},
     "output_type": "display_data"
    }
   ],
   "source": [
    "#plants\n",
    "all_str_true = all_df[all_df['type'] == True]['strength']\n",
    "all_str_true = all_str_true[all_str_true > 0]\n",
    "\n",
    "\n",
    "#Pollinators\n",
    "all_str_false = all_df[all_df['type'] == False]['strength']\n",
    "all_str_false = all_str_false[all_str_false > 0]\n",
    "\n",
    "pl.plot_pdf(all_str_false, label = 'Pollinators', linestyle = 'none', marker = '.')\n",
    "\n",
    "pl.plot_pdf(all_str_true, label = 'Plants', linestyle = 'none', marker = '.')\n",
    "\n",
    "#all \n",
    "\n",
    "\n",
    "all_str = all_df['strength']\n",
    "all_str = all_str[all_str > 0]\n",
    "\n",
    "pl.plot_pdf(all_str, label = 'All', linestyle = 'none', marker = '.')\n",
    "\n",
    "plt.legend()\n",
    "\n",
    "plt.xlabel('Strength')\n",
    "plt.ylabel('P(str)')"
   ]
  },
  {
   "cell_type": "code",
   "execution_count": 10,
   "metadata": {
    "collapsed": false
   },
   "outputs": [
    {
     "data": {
      "text/plain": [
       "<matplotlib.text.Text at 0x107218f90>"
      ]
     },
     "execution_count": 10,
     "metadata": {},
     "output_type": "execute_result"
    },
    {
     "data": {
      "image/png": "[encoded data removed]",
      "text/plain": [
       "<matplotlib.figure.Figure at 0x107212690>"
      ]
     },
     "metadata": {},
     "output_type": "display_data"
    }
   ],
   "source": [
    "#every island has generalists\n",
    "\n",
    "str_0 = all_df[all_df['network'] == 0]['strength']\n",
    "str_0 = str_0[str_0 > 0]\n",
    "\n",
    "str_1 = all_df[all_df['network'] == 1]['strength']\n",
    "str_1 = str_1[str_1 > 0]\n",
    "\n",
    "str_2 = all_df[all_df['network'] == 2]['strength']\n",
    "str_2 = str_2[str_2 > 0]\n",
    "\n",
    "str_3 = all_df[all_df['network'] == 3]['strength']\n",
    "str_3 = str_3[str_3 > 0]\n",
    "\n",
    "str_4 = all_df[all_df['network'] == 4]['strength']\n",
    "str_4 = str_4[str_4 > 0]\n",
    "\n",
    "str_5 = all_df[all_df['network'] == 5]['strength']\n",
    "str_5 = str_5[str_5 > 0]\n",
    "\n",
    "str_6 = all_df[all_df['network'] == 6]['strength']\n",
    "str_6 = str_6[str_6 > 0]\n",
    "\n",
    "str_7 = all_df[all_df['network'] == 7]['strength']\n",
    "str_7 = str_7[str_7 > 0]\n",
    "\n",
    "str_8 = all_df[all_df['network'] == 8]['strength']\n",
    "str_8 = str_8[str_8 > 0]\n",
    "\n",
    "str_9 = all_df[all_df['network'] == 9]['strength']\n",
    "str_9 = str_9[str_9 > 0]\n",
    "\n",
    "str_10 = all_df[all_df['network'] == 10]['strength']\n",
    "str_10 = str_10[str_10 > 0]\n",
    "\n",
    "str_11 = all_df[all_df['network'] == 11]['strength']\n",
    "str_11 = str_11[str_11 > 0]\n",
    "\n",
    "str_12 = all_df[all_df['network'] == 12]['strength']\n",
    "str_12 = str_12[str_12 > 0]\n",
    "\n",
    "str_13 = all_df[all_df['network'] == 13]['strength']\n",
    "str_13 = str_13[str_13 > 0]\n",
    "\n",
    "pl.plot_pdf(str_0, linestyle = 'none', marker = '.', label = 'Island 0')\n",
    "pl.plot_pdf(str_1, linestyle = 'none', marker = '.', label = 'Island 1')\n",
    "pl.plot_pdf(str_2, linestyle = 'none', marker = '.', label = 'Island 2')\n",
    "pl.plot_pdf(str_3, linestyle = 'none', marker = '.', label = 'Island 3')\n",
    "pl.plot_pdf(str_4, linestyle = 'none', marker = '.', label = 'Island 4')\n",
    "pl.plot_pdf(str_5, linestyle = 'none', marker = '.', label = 'Island 5')\n",
    "pl.plot_pdf(str_6, linestyle = 'none', marker = '.', label = 'Island 6')\n",
    "pl.plot_pdf(str_7, linestyle = 'none', marker = '.', label = 'Island 7')\n",
    "pl.plot_pdf(str_8, linestyle = 'none', marker = '.', label = 'Island 8')\n",
    "pl.plot_pdf(str_10, linestyle = 'none', marker = '.', label = 'Island 10')\n",
    "pl.plot_pdf(str_11, linestyle = 'none', marker = '.', label = 'Island 11')\n",
    "pl.plot_pdf(str_12, linestyle = 'none', marker = '.', label = 'Island 12')\n",
    "pl.plot_pdf(str_13, linestyle = 'none', marker = '.', label = 'Island 13')\n",
    "\n",
    "plt.legend()\n",
    "plt.xlabel('Strength')\n",
    "plt.ylabel('P(str)')"
   ]
  },
  {
   "cell_type": "code",
   "execution_count": 11,
   "metadata": {
    "collapsed": false
   },
   "outputs": [
    {
     "name": "stderr",
     "output_type": "stream",
     "text": [
      "/Users/ahazarie/.local/lib/python2.7/site-packages/ipykernel/__main__.py:2: SettingWithCopyWarning: \n",
      "A value is trying to be set on a copy of a slice from a DataFrame.\n",
      "Try using .loc[row_indexer,col_indexer] = value instead\n",
      "\n",
      "See the caveats in the documentation: http://pandas.pydata.org/pandas-docs/stable/indexing.html#indexing-view-versus-copy\n",
      "  from ipykernel import kernelapp as app\n"
     ]
    }
   ],
   "source": [
    "mainland_dist = data[(data['From'] == 'WesternSahara_1')]\n",
    "mainland_dist['dest'] = [dict1[i] for i in mainland_dist['To']]"
   ]
  },
  {
   "cell_type": "code",
   "execution_count": 12,
   "metadata": {
    "collapsed": false
   },
   "outputs": [
    {
     "data": {
      "text/html": [
       "<div>\n",
       "<table border=\"1\" class=\"dataframe\">\n",
       "  <thead>\n",
       "    <tr style=\"text-align: right;\">\n",
       "      <th></th>\n",
       "      <th>Dist_m</th>\n",
       "      <th>From</th>\n",
       "      <th>To</th>\n",
       "      <th>1/dist</th>\n",
       "      <th>dest</th>\n",
       "    </tr>\n",
       "  </thead>\n",
       "  <tbody>\n",
       "    <tr>\n",
       "      <th>6</th>\n",
       "      <td>505.679714</td>\n",
       "      <td>WesternSahara_1</td>\n",
       "      <td>WesternSahara_2</td>\n",
       "      <td>0.001978</td>\n",
       "      <td>1</td>\n",
       "    </tr>\n",
       "    <tr>\n",
       "      <th>47</th>\n",
       "      <td>244126.100200</td>\n",
       "      <td>WesternSahara_1</td>\n",
       "      <td>GranCanaria_1</td>\n",
       "      <td>0.000004</td>\n",
       "      <td>4</td>\n",
       "    </tr>\n",
       "    <tr>\n",
       "      <th>48</th>\n",
       "      <td>244218.294700</td>\n",
       "      <td>WesternSahara_1</td>\n",
       "      <td>GranCanaria_2</td>\n",
       "      <td>0.000004</td>\n",
       "      <td>5</td>\n",
       "    </tr>\n",
       "    <tr>\n",
       "      <th>59</th>\n",
       "      <td>305014.208600</td>\n",
       "      <td>WesternSahara_1</td>\n",
       "      <td>Fuerteventura_2</td>\n",
       "      <td>0.000003</td>\n",
       "      <td>3</td>\n",
       "    </tr>\n",
       "    <tr>\n",
       "      <th>60</th>\n",
       "      <td>305029.086300</td>\n",
       "      <td>WesternSahara_1</td>\n",
       "      <td>Fuerteventura_1</td>\n",
       "      <td>0.000003</td>\n",
       "      <td>2</td>\n",
       "    </tr>\n",
       "    <tr>\n",
       "      <th>67</th>\n",
       "      <td>339317.665300</td>\n",
       "      <td>WesternSahara_1</td>\n",
       "      <td>TenerifeSouth_1</td>\n",
       "      <td>0.000003</td>\n",
       "      <td>6</td>\n",
       "    </tr>\n",
       "    <tr>\n",
       "      <th>68</th>\n",
       "      <td>339340.939500</td>\n",
       "      <td>WesternSahara_1</td>\n",
       "      <td>TenerifeSouth_2</td>\n",
       "      <td>0.000003</td>\n",
       "      <td>7</td>\n",
       "    </tr>\n",
       "    <tr>\n",
       "      <th>75</th>\n",
       "      <td>389041.274500</td>\n",
       "      <td>WesternSahara_1</td>\n",
       "      <td>TenerifeTeno_1</td>\n",
       "      <td>0.000003</td>\n",
       "      <td>8</td>\n",
       "    </tr>\n",
       "    <tr>\n",
       "      <th>76</th>\n",
       "      <td>389081.672300</td>\n",
       "      <td>WesternSahara_1</td>\n",
       "      <td>TenerifeTeno_2</td>\n",
       "      <td>0.000003</td>\n",
       "      <td>9</td>\n",
       "    </tr>\n",
       "    <tr>\n",
       "      <th>80</th>\n",
       "      <td>389999.574700</td>\n",
       "      <td>WesternSahara_1</td>\n",
       "      <td>Gomera_2</td>\n",
       "      <td>0.000003</td>\n",
       "      <td>11</td>\n",
       "    </tr>\n",
       "    <tr>\n",
       "      <th>82</th>\n",
       "      <td>390021.088600</td>\n",
       "      <td>WesternSahara_1</td>\n",
       "      <td>Gomera_1</td>\n",
       "      <td>0.000003</td>\n",
       "      <td>10</td>\n",
       "    </tr>\n",
       "    <tr>\n",
       "      <th>84</th>\n",
       "      <td>437366.775300</td>\n",
       "      <td>WesternSahara_1</td>\n",
       "      <td>Hierro_1</td>\n",
       "      <td>0.000002</td>\n",
       "      <td>12</td>\n",
       "    </tr>\n",
       "    <tr>\n",
       "      <th>86</th>\n",
       "      <td>437457.012400</td>\n",
       "      <td>WesternSahara_1</td>\n",
       "      <td>Hierro_2</td>\n",
       "      <td>0.000002</td>\n",
       "      <td>13</td>\n",
       "    </tr>\n",
       "  </tbody>\n",
       "</table>\n",
       "</div>"
      ],
      "text/plain": [
       "           Dist_m             From               To    1/dist  dest\n",
       "6      505.679714  WesternSahara_1  WesternSahara_2  0.001978     1\n",
       "47  244126.100200  WesternSahara_1    GranCanaria_1  0.000004     4\n",
       "48  244218.294700  WesternSahara_1    GranCanaria_2  0.000004     5\n",
       "59  305014.208600  WesternSahara_1  Fuerteventura_2  0.000003     3\n",
       "60  305029.086300  WesternSahara_1  Fuerteventura_1  0.000003     2\n",
       "67  339317.665300  WesternSahara_1  TenerifeSouth_1  0.000003     6\n",
       "68  339340.939500  WesternSahara_1  TenerifeSouth_2  0.000003     7\n",
       "75  389041.274500  WesternSahara_1   TenerifeTeno_1  0.000003     8\n",
       "76  389081.672300  WesternSahara_1   TenerifeTeno_2  0.000003     9\n",
       "80  389999.574700  WesternSahara_1         Gomera_2  0.000003    11\n",
       "82  390021.088600  WesternSahara_1         Gomera_1  0.000003    10\n",
       "84  437366.775300  WesternSahara_1         Hierro_1  0.000002    12\n",
       "86  437457.012400  WesternSahara_1         Hierro_2  0.000002    13"
      ]
     },
     "execution_count": 12,
     "metadata": {},
     "output_type": "execute_result"
    }
   ],
   "source": [
    "mainland_dist"
   ]
  },
  {
   "cell_type": "code",
   "execution_count": 13,
   "metadata": {
    "collapsed": true
   },
   "outputs": [],
   "source": [
    "#reverse lookup tool\n",
    "dict2 = dict(map(reversed, dict1.items()))\n",
    "\n",
    "#assigning a column to the dataframe that contains the distance to the mainland \n",
    "\n",
    "main_dict = dict(zip(mainland_dist.To, mainland_dist.Dist_m))\n",
    "main_dict['WesternSahara_1'] = 0\n",
    "all_df['to_main'] = [main_dict[dict2[i]] for i in all_df['network'].values]"
   ]
  },
  {
   "cell_type": "code",
   "execution_count": 25,
   "metadata": {
    "collapsed": false
   },
   "outputs": [
    {
     "data": {
      "text/html": [
       "<div>\n",
       "<table border=\"1\" class=\"dataframe\">\n",
       "  <thead>\n",
       "    <tr style=\"text-align: right;\">\n",
       "      <th></th>\n",
       "      <th>betweenness</th>\n",
       "      <th>degree</th>\n",
       "      <th>name</th>\n",
       "      <th>network</th>\n",
       "      <th>pagerank</th>\n",
       "      <th>strength</th>\n",
       "      <th>type</th>\n",
       "      <th>id</th>\n",
       "      <th>num_occurences</th>\n",
       "      <th>to_main</th>\n",
       "    </tr>\n",
       "  </thead>\n",
       "  <tbody>\n",
       "    <tr>\n",
       "      <th>40</th>\n",
       "      <td>101.000000</td>\n",
       "      <td>3</td>\n",
       "      <td>Euphorbia balsamifera (f)</td>\n",
       "      <td>6</td>\n",
       "      <td>0.050253</td>\n",
       "      <td>46.0</td>\n",
       "      <td>True</td>\n",
       "      <td>40</td>\n",
       "      <td>14</td>\n",
       "      <td>339317.6653</td>\n",
       "    </tr>\n",
       "    <tr>\n",
       "      <th>39</th>\n",
       "      <td>123.000000</td>\n",
       "      <td>5</td>\n",
       "      <td>Euphorbia balsamifera (f)</td>\n",
       "      <td>2</td>\n",
       "      <td>0.064480</td>\n",
       "      <td>52.0</td>\n",
       "      <td>True</td>\n",
       "      <td>39</td>\n",
       "      <td>14</td>\n",
       "      <td>305029.0863</td>\n",
       "    </tr>\n",
       "    <tr>\n",
       "      <th>36</th>\n",
       "      <td>93.916667</td>\n",
       "      <td>7</td>\n",
       "      <td>Euphorbia balsamifera (m)</td>\n",
       "      <td>12</td>\n",
       "      <td>0.103402</td>\n",
       "      <td>76.0</td>\n",
       "      <td>True</td>\n",
       "      <td>36</td>\n",
       "      <td>14</td>\n",
       "      <td>437366.7753</td>\n",
       "    </tr>\n",
       "    <tr>\n",
       "      <th>35</th>\n",
       "      <td>79.750000</td>\n",
       "      <td>5</td>\n",
       "      <td>Euphorbia balsamifera (f)</td>\n",
       "      <td>12</td>\n",
       "      <td>0.047751</td>\n",
       "      <td>32.0</td>\n",
       "      <td>True</td>\n",
       "      <td>35</td>\n",
       "      <td>14</td>\n",
       "      <td>437366.7753</td>\n",
       "    </tr>\n",
       "    <tr>\n",
       "      <th>49</th>\n",
       "      <td>297.566667</td>\n",
       "      <td>8</td>\n",
       "      <td>Euphorbia balsamifera (f)</td>\n",
       "      <td>9</td>\n",
       "      <td>0.057147</td>\n",
       "      <td>74.0</td>\n",
       "      <td>True</td>\n",
       "      <td>49</td>\n",
       "      <td>14</td>\n",
       "      <td>389081.6723</td>\n",
       "    </tr>\n",
       "  </tbody>\n",
       "</table>\n",
       "</div>"
      ],
      "text/plain": [
       "    betweenness  degree                       name  network  pagerank  \\\n",
       "40   101.000000       3  Euphorbia balsamifera (f)        6  0.050253   \n",
       "39   123.000000       5  Euphorbia balsamifera (f)        2  0.064480   \n",
       "36    93.916667       7  Euphorbia balsamifera (m)       12  0.103402   \n",
       "35    79.750000       5  Euphorbia balsamifera (f)       12  0.047751   \n",
       "49   297.566667       8  Euphorbia balsamifera (f)        9  0.057147   \n",
       "\n",
       "    strength  type  id  num_occurences      to_main  \n",
       "40      46.0  True  40              14  339317.6653  \n",
       "39      52.0  True  39              14  305029.0863  \n",
       "36      76.0  True  36              14  437366.7753  \n",
       "35      32.0  True  35              14  437366.7753  \n",
       "49      74.0  True  49              14  389081.6723  "
      ]
     },
     "execution_count": 25,
     "metadata": {},
     "output_type": "execute_result"
    }
   ],
   "source": [
    "#Euphorbia balsamifera (f) and Euphorbia balsamifera (m) occur the most, lets see how they do\n",
    "#as to_main increases\n",
    "all_df.sort_values('num_occurences', ascending = False).head()"
   ]
  },
  {
   "cell_type": "code",
   "execution_count": 53,
   "metadata": {
    "collapsed": false
   },
   "outputs": [
    {
     "data": {
      "text/plain": [
       "<matplotlib.text.Text at 0x107abc7d0>"
      ]
     },
     "execution_count": 53,
     "metadata": {},
     "output_type": "execute_result"
    },
    {
     "data": {
      "image/png": "[encoded data removed]",
      "text/plain": [
       "<matplotlib.figure.Figure at 0x1077655d0>"
      ]
     },
     "metadata": {},
     "output_type": "display_data"
    }
   ],
   "source": [
    "#doesn't look like there's a correlation\n",
    "\n",
    "euph_f = all_df[all_df['name'] == 'Euphorbia balsamifera (f)']\n",
    "plt.scatter(euph_f['to_main'], euph_f['strength'])\n",
    "\n",
    "plt.xlabel('dist_to_main')\n",
    "plt.ylabel('Strength')"
   ]
  },
  {
   "cell_type": "code",
   "execution_count": 55,
   "metadata": {
    "collapsed": false
   },
   "outputs": [
    {
     "data": {
      "text/plain": [
       "<matplotlib.collections.PathCollection at 0x107db1350>"
      ]
     },
     "execution_count": 55,
     "metadata": {},
     "output_type": "execute_result"
    },
    {
     "data": {
      "image/png": "[encoded data removed]",
      "text/plain": [
       "<matplotlib.figure.Figure at 0x107b94e90>"
      ]
     },
     "metadata": {},
     "output_type": "display_data"
    }
   ],
   "source": [
    "#try number of species \n",
    "#doesn't look like it's correlated again..\n",
    "\n",
    "\n",
    "count = all_df.groupby('network').count()['type']\n",
    "to_main = all_df.groupby('network').first()['to_main']\n",
    "\n",
    "\n",
    "plt.xlabel('dist_to_main')\n",
    "plt.ylabel('number of species')\n",
    "\n",
    "\n",
    "plt.scatter(to_main,count)"
   ]
  },
  {
   "cell_type": "code",
   "execution_count": 38,
   "metadata": {
    "collapsed": true
   },
   "outputs": [],
   "source": [
    "main_species = all_df[all_df['network']==0]['name'].values"
   ]
  },
  {
   "cell_type": "code",
   "execution_count": 50,
   "metadata": {
    "collapsed": false
   },
   "outputs": [],
   "source": [
    "num_shared = all_df.groupby('network').apply(lambda x: len(set(x['name']).intersection(main_species)))"
   ]
  },
  {
   "cell_type": "code",
   "execution_count": 56,
   "metadata": {
    "collapsed": false
   },
   "outputs": [
    {
     "data": {
      "text/plain": [
       "<matplotlib.text.Text at 0x107cc8250>"
      ]
     },
     "execution_count": 56,
     "metadata": {},
     "output_type": "execute_result"
    },
    {
     "data": {
      "image/png": "[encoded data removed]",
      "text/plain": [
       "<matplotlib.figure.Figure at 0x107cd2650>"
      ]
     },
     "metadata": {},
     "output_type": "display_data"
    }
   ],
   "source": [
    "plt.scatter(to_main,num_shared)\n",
    "plt.xlabel('dist_to_main')\n",
    "plt.ylabel('number of overlapping species')"
   ]
  }
 ],
 "metadata": {
  "kernelspec": {
   "display_name": "Python 2",
   "language": "python",
   "name": "python2"
  },
  "language_info": {
   "codemirror_mode": {
    "name": "ipython",
    "version": 2
   },
   "file_extension": ".py",
   "mimetype": "text/x-python",
   "name": "python",
   "nbconvert_exporter": "python",
   "pygments_lexer": "ipython2",
   "version": "2.7.10"
  }
 },
 "nbformat": 4,
 "nbformat_minor": 1
}
