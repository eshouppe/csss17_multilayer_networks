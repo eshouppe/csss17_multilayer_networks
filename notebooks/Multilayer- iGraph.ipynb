{
 "cells": [
  {
   "cell_type": "code",
   "execution_count": 2,
   "metadata": {
    "collapsed": true
   },
   "outputs": [],
   "source": [
    "#1.1 has all networks imported \n",
    "#graphs 0 and 1 don't seem to work... \n",
    "\n",
    "#1.2\n",
    "#things to do:\n",
    "#bipartite projections\n",
    "#network of islands with (1/?) distance as edge weights -> most central, etc...\n",
    "#network of same species, but one node for each island \n",
    "#networkx?\n",
    "\n",
    "#igraph 1.0\n",
    "\n",
    "#using igraph here \n",
    "\n",
    "#1.1\n",
    "#implementing some analysis examples\n",
    "#need to incorporate weights, using \n",
    "#https://stackoverflow.com/questions/29655111/igraph-graph-from-numpy-or-pandas-adjacency-matrix\n",
    "\n",
    "#sahara data set \"Hym. Waiting�.\" causing problems?\n",
    "#troubleshooting\n",
    "#looks like it works if we just use the saharas...\n",
    "#something's wrong. all \"false\" and no trues\n",
    "#weight method is incorrect, matrices are different \n",
    "\n",
    "#this weight method seems ok. need to do sanity checks later \n",
    "\n",
    "\n",
    "#something is wrong with the indexing?\n",
    "\n",
    "#big problem! something's wrong with the node labelling index technique. nodes dont match \n",
    "#let's leverage the get._incidence method. looks like it tells me how to label em! \n",
    "#http://igraph.org/python/doc/igraph.Graph-class.html#get_incidence\n",
    "#so label rows first, then columns\n",
    "\n",
    "#looks like the weight-combining of the multi edges was screwing it up! \n",
    "\n",
    "#1.6 \n",
    "#hopefully this'll do it... \n",
    "#ok, looks good. some caveats: degree won't return weights\n",
    "#need to use strength and pass the edge weights \n",
    "\n",
    "\n",
    "#to examine, try \n",
    "#zip(g[4].vs['label'], g[4].strength(weights = g[4].es['weight']))\n",
    "#and\n",
    "#adj[4]\n",
    "\n",
    "\n",
    "#2.0\n",
    "#seems good, had to nix the neighbor finding function for now (indexing wasn't right)\n",
    "#may have to revisit previous codes (ie multinetx, etc...) to patch up the labeling and weights, etc...\n",
    "\n",
    "#2.1 incorporating the location network \n",
    "\n",
    "#2.2 zhiya's merge tech solved everything in one instant \n",
    "\n",
    "#2.3 trying to incorporate multiple kinds of edges in the location network \n",
    "\n",
    "#ok, can add edges with separate weights in addition to the originals. \n",
    "#will call the #similiar species weight2\n",
    "\n",
    "\n",
    "#2.5 making more readable"
   ]
  },
  {
   "cell_type": "code",
   "execution_count": 3,
   "metadata": {
    "collapsed": true
   },
   "outputs": [],
   "source": [
    "%matplotlib inline\n",
    "import pandas as pd\n",
    "import numpy as np\n",
    "import matplotlib.pyplot as plt\n",
    "import math\n",
    "%reload_ext autoreload\n",
    "%autoreload 2\n",
    "import scipy.stats as st\n",
    "import os\n",
    "from scipy.optimize import curve_fit\n",
    "import igraph as ig\n",
    "import csv\n",
    "import powerlaw as pl\n",
    "\n",
    "import itertools as it"
   ]
  },
  {
   "cell_type": "markdown",
   "metadata": {},
   "source": [
    "I'd ran into trouble with consistency in the node/network labeling before, so these are steps to make sure that\n",
    "the order of the nodes in the network is consistent with the way they're imported, etc...\n",
    "\n",
    "Import the distances between the islands into a dataframe, and create a graph that uses 1/distance as the edgeweights.\n",
    "\n",
    "Then, create a dataframe that contains measures from the location graph"
   ]
  },
  {
   "cell_type": "code",
   "execution_count": 4,
   "metadata": {
    "collapsed": true
   },
   "outputs": [],
   "source": [
    "data = pd.read_csv(\"/Users/ahazarie/Desktop/U of R/Fall 2016/R-S/Current stuff/CSSS/_multilayer_graphs/sets/Plant_Pollinator_Distance_Network/Distance_between_sites_Dryad.csv\")\n",
    "dict1 = {'WesternSahara_1':0,\n",
    "         'WesternSahara_2':1,\n",
    "         'Fuerteventura_1':2,\n",
    "         'Fuerteventura_2':3,\n",
    "         'GranCanaria_1':4,\n",
    "         'GranCanaria_2':5,\n",
    "         'TenerifeSouth_1':6,\n",
    "         'TenerifeSouth_2':7,\n",
    "         'TenerifeTeno_1':8,\n",
    "         'TenerifeTeno_2':9,\n",
    "         'Gomera_1':10,\n",
    "         'Gomera_2':11,\n",
    "         'Hierro_1':12,\n",
    "         'Hierro_2':13}\n",
    "\n",
    "\n",
    "data.columns = ['From','To','Dist_m']\n",
    "data['1/dist'] = 1.0 / data['Dist_m']\n",
    "data = data.groupby('Dist_m').first().reset_index()\n",
    "\n",
    "nodes = list(set(data['From'].append(data['To'])))\n",
    "node_ids = range(len(nodes))\n",
    "#edges and weights imported in same order, so should be consistent\n",
    "edgelist = zip(data['From'],data['To'])\n",
    "weights = data['1/dist']\n",
    "edge_ids = []\n",
    "\n",
    "for i in range(len(edgelist)):\n",
    "    edge_ids.append((dict1[edgelist[i][0]],dict1[edgelist[i][1]]))\n",
    "g_locs = ig.Graph()\n",
    "g_locs.add_vertices(node_ids)\n",
    "g_locs.add_edges(edge_ids)\n",
    "g_locs.es['weight'] = weights\n",
    "g_locs.es[\"width\"] = ig.rescale(g_locs.es[\"weight\"], out_range=(0.5, 3))\n",
    "\n",
    "g_locs.vs['label'] =['WesternSahara_1',\n",
    "         'WesternSahara_2',\n",
    "         'Fuerteventura_1',\n",
    "         'Fuerteventura_2',\n",
    "         'GranCanaria_1',\n",
    "         'GranCanaria_2',\n",
    "         'TenerifeSouth_1',\n",
    "         'TenerifeSouth_2',\n",
    "         'TenerifeTeno_1',\n",
    "         'TenerifeTeno_2',\n",
    "         'Gomera_1',\n",
    "         'Gomera_2',\n",
    "         'Hierro_1',\n",
    "         'Hierro_2']\n",
    "\n",
    "loc_df = pd.DataFrame({'island':g_locs.vs['name'],\n",
    "                   'island_name': g_locs.vs['label'],\n",
    "                   'betweenness':g_locs.betweenness(weights = g_locs.es['weight']),\n",
    "                   'pagerank': g_locs.pagerank(weights = g_locs.es['weight']),\n",
    "                   'strength':g_locs.strength(weights = g_locs.es['weight'])\n",
    "                   \n",
    "                  })"
   ]
  },
  {
   "cell_type": "markdown",
   "metadata": {},
   "source": [
    "Import the adjacency matrices (the order is important, it matches the dictionary defined in the last slide.)"
   ]
  },
  {
   "cell_type": "code",
   "execution_count": 5,
   "metadata": {
    "collapsed": false
   },
   "outputs": [],
   "source": [
    "adj = []\n",
    "adj.append(pd.read_csv(\"/Users/ahazarie/Desktop/U of R/Fall 2016/R-S/Current stuff/CSSS/_multilayer_graphs/sets/Plant_Pollinator_Distance_Network/Site1_WesternSahara1.csv\"))\n",
    "adj.append(pd.read_csv(\"/Users/ahazarie/Desktop/U of R/Fall 2016/R-S/Current stuff/CSSS/_multilayer_graphs/sets/Plant_Pollinator_Distance_Network/Site2_WesternSahara2.csv\"))\n",
    "adj.append(pd.read_csv(\"/Users/ahazarie/Desktop/U of R/Fall 2016/R-S/Current stuff/CSSS/_multilayer_graphs/sets/Plant_Pollinator_Distance_Network/Site3_Fuerteventura1.csv\"))\n",
    "adj.append(pd.read_csv(\"/Users/ahazarie/Desktop/U of R/Fall 2016/R-S/Current stuff/CSSS/_multilayer_graphs/sets/Plant_Pollinator_Distance_Network/Site4_Fuerteventura2.csv\"))\n",
    "adj.append(pd.read_csv(\"/Users/ahazarie/Desktop/U of R/Fall 2016/R-S/Current stuff/CSSS/_multilayer_graphs/sets/Plant_Pollinator_Distance_Network/Site5_GranCanaria1.csv\"))\n",
    "adj.append(pd.read_csv(\"/Users/ahazarie/Desktop/U of R/Fall 2016/R-S/Current stuff/CSSS/_multilayer_graphs/sets/Plant_Pollinator_Distance_Network/Site6_GranCanaria2.csv\"))\n",
    "adj.append(pd.read_csv(\"/Users/ahazarie/Desktop/U of R/Fall 2016/R-S/Current stuff/CSSS/_multilayer_graphs/sets/Plant_Pollinator_Distance_Network/Site7_TenerifeSouth1.csv\"))\n",
    "adj.append(pd.read_csv(\"/Users/ahazarie/Desktop/U of R/Fall 2016/R-S/Current stuff/CSSS/_multilayer_graphs/sets/Plant_Pollinator_Distance_Network/Site8_TenerifeSouth2.csv\"))\n",
    "adj.append(pd.read_csv(\"/Users/ahazarie/Desktop/U of R/Fall 2016/R-S/Current stuff/CSSS/_multilayer_graphs/sets/Plant_Pollinator_Distance_Network/Site9_TenerifeTeno1.csv\"))\n",
    "adj.append(pd.read_csv(\"/Users/ahazarie/Desktop/U of R/Fall 2016/R-S/Current stuff/CSSS/_multilayer_graphs/sets/Plant_Pollinator_Distance_Network/Site10_TenerifeTeno2.csv\"))\n",
    "adj.append(pd.read_csv(\"/Users/ahazarie/Desktop/U of R/Fall 2016/R-S/Current stuff/CSSS/_multilayer_graphs/sets/Plant_Pollinator_Distance_Network/Site11_Gomera1.csv\"))\n",
    "adj.append(pd.read_csv(\"/Users/ahazarie/Desktop/U of R/Fall 2016/R-S/Current stuff/CSSS/_multilayer_graphs/sets/Plant_Pollinator_Distance_Network/Site12_Gomera2.csv\"))\n",
    "adj.append(pd.read_csv(\"/Users/ahazarie/Desktop/U of R/Fall 2016/R-S/Current stuff/CSSS/_multilayer_graphs/sets/Plant_Pollinator_Distance_Network/Site13_Hierro1.csv\"))\n",
    "adj.append(pd.read_csv(\"/Users/ahazarie/Desktop/U of R/Fall 2016/R-S/Current stuff/CSSS/_multilayer_graphs/sets/Plant_Pollinator_Distance_Network/Site14_Hierro2.csv\"))"
   ]
  },
  {
   "cell_type": "markdown",
   "metadata": {},
   "source": [
    "Construct networks from the adjacency matrices. To get the edgeweights:\n",
    "The graph will create edges between nodes corresponding to the value in the adjacency cell.\n",
    "To create a weighted edge, give each edge a weight 1, then collapse them using a sum to end up with a weighted edge between two nodes.\n",
    "\n",
    "Using the get_incident method on graphs, we can find the order that the nodes are in within the graph object.\n",
    "This should match the all_names list constructed, so use this method to assign attributes to the nodes (to make sure that plants are one color, bees another, etc...)\n",
    "\n"
   ]
  },
  {
   "cell_type": "code",
   "execution_count": 6,
   "metadata": {
    "collapsed": false
   },
   "outputs": [],
   "source": [
    "#name nodes\n",
    "#keep a counter for j and k, j for red nodes and k for blue\n",
    "#red nodes use column list, blue nodes use index\n",
    "\n",
    "#assumes that the names are in order... (they are, by the get_incident function)\n",
    "\n",
    "g = []\n",
    "\n",
    "\n",
    "for i in range(len(adj)):\n",
    "    \n",
    "    g.append(ig.Graph.Incidence(adj[i].values.tolist(),multiple = True))\n",
    "    g[i].es['weight'] = 1\n",
    "    g[i] = g[i].simplify(combine_edges = {'weight':'sum'})\n",
    "    all_names = np.append(adj[i].index.values, adj[i].columns.values)\n",
    "    \n",
    "    \n",
    "    for j in range(len(all_names)):\n",
    "        g[i].vs[j]['label'] = all_names[j]\n",
    "\n",
    "    j = 0\n",
    "    k = 0\n",
    "    for l in range(g[i].vcount()):\n",
    "        if (g[i].vs[l]['type']):\n",
    "            g[i].vs[l]['color'] = 'red'\n",
    "            j+= 1\n",
    "        else:\n",
    "            g[i].vs[l]['color'] = 'blue'\n",
    "            k+=1 \n",
    "\n"
   ]
  },
  {
   "cell_type": "markdown",
   "metadata": {},
   "source": [
    "With the graphs created, create dataframes containing useful measures from each of them. \n",
    "\n",
    "NOTE: These are the un-projected graph metrics. "
   ]
  },
  {
   "cell_type": "code",
   "execution_count": 7,
   "metadata": {
    "collapsed": false
   },
   "outputs": [],
   "source": [
    "df = []\n",
    "for i in range(len(g)):\n",
    "    \n",
    "    df.append(pd.DataFrame({'name': g[i].vs['label'], \n",
    "                            'type': g[i].vs['type'], \n",
    "                            'betweenness': g[i].betweenness(weights = g[i].es['weight']),\n",
    "                           'degree': g[i].degree(),\n",
    "                            'strength': g[i].strength(weights = g[i].es['weight']),\n",
    "                            'pagerank': g[i].pagerank(weights = g[i].es['weight']),\n",
    "                            'network': i\n",
    "                           }))\n",
    "    \n",
    "    df[i]['id'] = df[i].index.tolist()"
   ]
  },
  {
   "cell_type": "markdown",
   "metadata": {},
   "source": [
    "Create a total dataframe out of the dataframes for each graph.\n",
    "This allows more of a \"global\" analysis approach. \n"
   ]
  },
  {
   "cell_type": "code",
   "execution_count": 8,
   "metadata": {
    "collapsed": false
   },
   "outputs": [],
   "source": [
    "all_df = pd.DataFrame()\n",
    "for i in range(len(df)):\n",
    "    all_df = all_df.append(df[i])\n",
    "all_df['num_occurences'] = 0\n",
    "all_df['num_occurences'] = all_df.groupby('name').transform(\"count\")\n",
    "#all_df = all_df.reset_index()"
   ]
  },
  {
   "cell_type": "markdown",
   "metadata": {},
   "source": [
    "Examples of angles to view the data:\n",
    "\n",
    "Viewing all instances of a specific species\n",
    "\n",
    "Looking at a particular network/island\n",
    "\n",
    "Sorting by a network metric (betweenness, etc...)\n",
    "\n",
    "Sorting by the number of times a species appears in all data\n",
    "\n",
    "Sorting by \"strength\" (weighted degree)\n",
    "\n",
    "Creating a dataframe out of just the saharas"
   ]
  },
  {
   "cell_type": "code",
   "execution_count": 9,
   "metadata": {
    "collapsed": false
   },
   "outputs": [
    {
     "data": {
      "text/html": [
       "<div>\n",
       "<table border=\"1\" class=\"dataframe\">\n",
       "  <thead>\n",
       "    <tr style=\"text-align: right;\">\n",
       "      <th></th>\n",
       "      <th>betweenness</th>\n",
       "      <th>degree</th>\n",
       "      <th>name</th>\n",
       "      <th>network</th>\n",
       "      <th>pagerank</th>\n",
       "      <th>strength</th>\n",
       "      <th>type</th>\n",
       "      <th>id</th>\n",
       "      <th>num_occurences</th>\n",
       "    </tr>\n",
       "  </thead>\n",
       "  <tbody>\n",
       "    <tr>\n",
       "      <th>0</th>\n",
       "      <td>0.000000</td>\n",
       "      <td>1</td>\n",
       "      <td>Anaspis proteus</td>\n",
       "      <td>2</td>\n",
       "      <td>0.006872</td>\n",
       "      <td>2.0</td>\n",
       "      <td>False</td>\n",
       "      <td>0</td>\n",
       "      <td>8</td>\n",
       "    </tr>\n",
       "    <tr>\n",
       "      <th>1</th>\n",
       "      <td>0.000000</td>\n",
       "      <td>1</td>\n",
       "      <td>Anaspis proteus</td>\n",
       "      <td>3</td>\n",
       "      <td>0.004848</td>\n",
       "      <td>2.0</td>\n",
       "      <td>False</td>\n",
       "      <td>1</td>\n",
       "      <td>8</td>\n",
       "    </tr>\n",
       "    <tr>\n",
       "      <th>1</th>\n",
       "      <td>5.500000</td>\n",
       "      <td>3</td>\n",
       "      <td>Anaspis proteus</td>\n",
       "      <td>4</td>\n",
       "      <td>0.016655</td>\n",
       "      <td>13.0</td>\n",
       "      <td>False</td>\n",
       "      <td>1</td>\n",
       "      <td>8</td>\n",
       "    </tr>\n",
       "    <tr>\n",
       "      <th>3</th>\n",
       "      <td>39.166667</td>\n",
       "      <td>3</td>\n",
       "      <td>Anaspis proteus</td>\n",
       "      <td>5</td>\n",
       "      <td>0.028187</td>\n",
       "      <td>17.0</td>\n",
       "      <td>False</td>\n",
       "      <td>3</td>\n",
       "      <td>8</td>\n",
       "    </tr>\n",
       "    <tr>\n",
       "      <th>2</th>\n",
       "      <td>32.058766</td>\n",
       "      <td>2</td>\n",
       "      <td>Anaspis proteus</td>\n",
       "      <td>6</td>\n",
       "      <td>0.005151</td>\n",
       "      <td>2.0</td>\n",
       "      <td>False</td>\n",
       "      <td>2</td>\n",
       "      <td>8</td>\n",
       "    </tr>\n",
       "    <tr>\n",
       "      <th>2</th>\n",
       "      <td>344.191667</td>\n",
       "      <td>4</td>\n",
       "      <td>Anaspis proteus</td>\n",
       "      <td>7</td>\n",
       "      <td>0.022595</td>\n",
       "      <td>19.0</td>\n",
       "      <td>False</td>\n",
       "      <td>2</td>\n",
       "      <td>8</td>\n",
       "    </tr>\n",
       "    <tr>\n",
       "      <th>1</th>\n",
       "      <td>222.166667</td>\n",
       "      <td>6</td>\n",
       "      <td>Anaspis proteus</td>\n",
       "      <td>8</td>\n",
       "      <td>0.044440</td>\n",
       "      <td>49.0</td>\n",
       "      <td>False</td>\n",
       "      <td>1</td>\n",
       "      <td>8</td>\n",
       "    </tr>\n",
       "    <tr>\n",
       "      <th>2</th>\n",
       "      <td>0.000000</td>\n",
       "      <td>4</td>\n",
       "      <td>Anaspis proteus</td>\n",
       "      <td>9</td>\n",
       "      <td>0.030414</td>\n",
       "      <td>45.0</td>\n",
       "      <td>False</td>\n",
       "      <td>2</td>\n",
       "      <td>8</td>\n",
       "    </tr>\n",
       "  </tbody>\n",
       "</table>\n",
       "</div>"
      ],
      "text/plain": [
       "   betweenness  degree             name  network  pagerank  strength   type  \\\n",
       "0     0.000000       1  Anaspis proteus        2  0.006872       2.0  False   \n",
       "1     0.000000       1  Anaspis proteus        3  0.004848       2.0  False   \n",
       "1     5.500000       3  Anaspis proteus        4  0.016655      13.0  False   \n",
       "3    39.166667       3  Anaspis proteus        5  0.028187      17.0  False   \n",
       "2    32.058766       2  Anaspis proteus        6  0.005151       2.0  False   \n",
       "2   344.191667       4  Anaspis proteus        7  0.022595      19.0  False   \n",
       "1   222.166667       6  Anaspis proteus        8  0.044440      49.0  False   \n",
       "2     0.000000       4  Anaspis proteus        9  0.030414      45.0  False   \n",
       "\n",
       "   id  num_occurences  \n",
       "0   0               8  \n",
       "1   1               8  \n",
       "1   1               8  \n",
       "3   3               8  \n",
       "2   2               8  \n",
       "2   2               8  \n",
       "1   1               8  \n",
       "2   2               8  "
      ]
     },
     "execution_count": 9,
     "metadata": {},
     "output_type": "execute_result"
    }
   ],
   "source": [
    "all_df[all_df['name']=='Anaspis proteus']"
   ]
  },
  {
   "cell_type": "code",
   "execution_count": 10,
   "metadata": {
    "collapsed": false,
    "scrolled": true
   },
   "outputs": [
    {
     "data": {
      "text/html": [
       "<div>\n",
       "<table border=\"1\" class=\"dataframe\">\n",
       "  <thead>\n",
       "    <tr style=\"text-align: right;\">\n",
       "      <th></th>\n",
       "      <th>betweenness</th>\n",
       "      <th>degree</th>\n",
       "      <th>name</th>\n",
       "      <th>network</th>\n",
       "      <th>pagerank</th>\n",
       "      <th>strength</th>\n",
       "      <th>type</th>\n",
       "      <th>id</th>\n",
       "      <th>num_occurences</th>\n",
       "    </tr>\n",
       "  </thead>\n",
       "  <tbody>\n",
       "    <tr>\n",
       "      <th>0</th>\n",
       "      <td>0.0</td>\n",
       "      <td>1</td>\n",
       "      <td>Anaspis proteus</td>\n",
       "      <td>2</td>\n",
       "      <td>0.006872</td>\n",
       "      <td>2.0</td>\n",
       "      <td>False</td>\n",
       "      <td>0</td>\n",
       "      <td>8</td>\n",
       "    </tr>\n",
       "    <tr>\n",
       "      <th>1</th>\n",
       "      <td>98.0</td>\n",
       "      <td>3</td>\n",
       "      <td>Anthophora alluaudi</td>\n",
       "      <td>2</td>\n",
       "      <td>0.024068</td>\n",
       "      <td>7.0</td>\n",
       "      <td>False</td>\n",
       "      <td>1</td>\n",
       "      <td>11</td>\n",
       "    </tr>\n",
       "    <tr>\n",
       "      <th>2</th>\n",
       "      <td>0.0</td>\n",
       "      <td>2</td>\n",
       "      <td>Aphthona wachnitzae</td>\n",
       "      <td>2</td>\n",
       "      <td>0.016031</td>\n",
       "      <td>11.0</td>\n",
       "      <td>False</td>\n",
       "      <td>2</td>\n",
       "      <td>2</td>\n",
       "    </tr>\n",
       "    <tr>\n",
       "      <th>3</th>\n",
       "      <td>0.0</td>\n",
       "      <td>1</td>\n",
       "      <td>Araneae sp. 1</td>\n",
       "      <td>2</td>\n",
       "      <td>0.004315</td>\n",
       "      <td>1.0</td>\n",
       "      <td>False</td>\n",
       "      <td>3</td>\n",
       "      <td>1</td>\n",
       "    </tr>\n",
       "    <tr>\n",
       "      <th>4</th>\n",
       "      <td>0.0</td>\n",
       "      <td>1</td>\n",
       "      <td>Attagenus abbreviatus</td>\n",
       "      <td>2</td>\n",
       "      <td>0.005066</td>\n",
       "      <td>1.0</td>\n",
       "      <td>False</td>\n",
       "      <td>4</td>\n",
       "      <td>1</td>\n",
       "    </tr>\n",
       "  </tbody>\n",
       "</table>\n",
       "</div>"
      ],
      "text/plain": [
       "   betweenness  degree                   name  network  pagerank  strength  \\\n",
       "0          0.0       1        Anaspis proteus        2  0.006872       2.0   \n",
       "1         98.0       3    Anthophora alluaudi        2  0.024068       7.0   \n",
       "2          0.0       2    Aphthona wachnitzae        2  0.016031      11.0   \n",
       "3          0.0       1          Araneae sp. 1        2  0.004315       1.0   \n",
       "4          0.0       1  Attagenus abbreviatus        2  0.005066       1.0   \n",
       "\n",
       "    type  id  num_occurences  \n",
       "0  False   0               8  \n",
       "1  False   1              11  \n",
       "2  False   2               2  \n",
       "3  False   3               1  \n",
       "4  False   4               1  "
      ]
     },
     "execution_count": 10,
     "metadata": {},
     "output_type": "execute_result"
    }
   ],
   "source": [
    "all_df[all_df['network'] == 2].head()"
   ]
  },
  {
   "cell_type": "code",
   "execution_count": 11,
   "metadata": {
    "collapsed": false
   },
   "outputs": [
    {
     "data": {
      "text/html": [
       "<div>\n",
       "<table border=\"1\" class=\"dataframe\">\n",
       "  <thead>\n",
       "    <tr style=\"text-align: right;\">\n",
       "      <th></th>\n",
       "      <th>betweenness</th>\n",
       "      <th>degree</th>\n",
       "      <th>name</th>\n",
       "      <th>network</th>\n",
       "      <th>pagerank</th>\n",
       "      <th>strength</th>\n",
       "      <th>type</th>\n",
       "      <th>id</th>\n",
       "      <th>num_occurences</th>\n",
       "    </tr>\n",
       "  </thead>\n",
       "  <tbody>\n",
       "    <tr>\n",
       "      <th>47</th>\n",
       "      <td>1039.633333</td>\n",
       "      <td>22</td>\n",
       "      <td>Euphorbia balsamifera (m)</td>\n",
       "      <td>1</td>\n",
       "      <td>0.156012</td>\n",
       "      <td>92.0</td>\n",
       "      <td>True</td>\n",
       "      <td>47</td>\n",
       "      <td>14</td>\n",
       "    </tr>\n",
       "    <tr>\n",
       "      <th>54</th>\n",
       "      <td>779.350000</td>\n",
       "      <td>16</td>\n",
       "      <td>Argyranthemum frutescens</td>\n",
       "      <td>7</td>\n",
       "      <td>0.103696</td>\n",
       "      <td>97.0</td>\n",
       "      <td>True</td>\n",
       "      <td>54</td>\n",
       "      <td>6</td>\n",
       "    </tr>\n",
       "    <tr>\n",
       "      <th>42</th>\n",
       "      <td>759.500000</td>\n",
       "      <td>22</td>\n",
       "      <td>Launaea arborescens</td>\n",
       "      <td>2</td>\n",
       "      <td>0.129576</td>\n",
       "      <td>61.0</td>\n",
       "      <td>True</td>\n",
       "      <td>42</td>\n",
       "      <td>12</td>\n",
       "    </tr>\n",
       "    <tr>\n",
       "      <th>62</th>\n",
       "      <td>741.600000</td>\n",
       "      <td>4</td>\n",
       "      <td>Schizogyne sericea</td>\n",
       "      <td>9</td>\n",
       "      <td>0.009941</td>\n",
       "      <td>4.0</td>\n",
       "      <td>True</td>\n",
       "      <td>62</td>\n",
       "      <td>6</td>\n",
       "    </tr>\n",
       "    <tr>\n",
       "      <th>7</th>\n",
       "      <td>712.083333</td>\n",
       "      <td>15</td>\n",
       "      <td>Camponotus feae</td>\n",
       "      <td>9</td>\n",
       "      <td>0.136175</td>\n",
       "      <td>195.0</td>\n",
       "      <td>False</td>\n",
       "      <td>7</td>\n",
       "      <td>11</td>\n",
       "    </tr>\n",
       "  </tbody>\n",
       "</table>\n",
       "</div>"
      ],
      "text/plain": [
       "    betweenness  degree                       name  network  pagerank  \\\n",
       "47  1039.633333      22  Euphorbia balsamifera (m)        1  0.156012   \n",
       "54   779.350000      16   Argyranthemum frutescens        7  0.103696   \n",
       "42   759.500000      22        Launaea arborescens        2  0.129576   \n",
       "62   741.600000       4         Schizogyne sericea        9  0.009941   \n",
       "7    712.083333      15            Camponotus feae        9  0.136175   \n",
       "\n",
       "    strength   type  id  num_occurences  \n",
       "47      92.0   True  47              14  \n",
       "54      97.0   True  54               6  \n",
       "42      61.0   True  42              12  \n",
       "62       4.0   True  62               6  \n",
       "7      195.0  False   7              11  "
      ]
     },
     "execution_count": 11,
     "metadata": {},
     "output_type": "execute_result"
    }
   ],
   "source": [
    "all_df.sort_values('betweenness', ascending = False).head()"
   ]
  },
  {
   "cell_type": "code",
   "execution_count": 12,
   "metadata": {
    "collapsed": false
   },
   "outputs": [
    {
     "data": {
      "text/html": [
       "<div>\n",
       "<table border=\"1\" class=\"dataframe\">\n",
       "  <thead>\n",
       "    <tr style=\"text-align: right;\">\n",
       "      <th></th>\n",
       "      <th>betweenness</th>\n",
       "      <th>degree</th>\n",
       "      <th>name</th>\n",
       "      <th>network</th>\n",
       "      <th>pagerank</th>\n",
       "      <th>strength</th>\n",
       "      <th>type</th>\n",
       "      <th>id</th>\n",
       "      <th>num_occurences</th>\n",
       "    </tr>\n",
       "  </thead>\n",
       "  <tbody>\n",
       "    <tr>\n",
       "      <th>40</th>\n",
       "      <td>101.000000</td>\n",
       "      <td>3</td>\n",
       "      <td>Euphorbia balsamifera (f)</td>\n",
       "      <td>6</td>\n",
       "      <td>0.050253</td>\n",
       "      <td>46.0</td>\n",
       "      <td>True</td>\n",
       "      <td>40</td>\n",
       "      <td>14</td>\n",
       "    </tr>\n",
       "    <tr>\n",
       "      <th>39</th>\n",
       "      <td>123.000000</td>\n",
       "      <td>5</td>\n",
       "      <td>Euphorbia balsamifera (f)</td>\n",
       "      <td>2</td>\n",
       "      <td>0.064480</td>\n",
       "      <td>52.0</td>\n",
       "      <td>True</td>\n",
       "      <td>39</td>\n",
       "      <td>14</td>\n",
       "    </tr>\n",
       "    <tr>\n",
       "      <th>36</th>\n",
       "      <td>93.916667</td>\n",
       "      <td>7</td>\n",
       "      <td>Euphorbia balsamifera (m)</td>\n",
       "      <td>12</td>\n",
       "      <td>0.103402</td>\n",
       "      <td>76.0</td>\n",
       "      <td>True</td>\n",
       "      <td>36</td>\n",
       "      <td>14</td>\n",
       "    </tr>\n",
       "    <tr>\n",
       "      <th>35</th>\n",
       "      <td>79.750000</td>\n",
       "      <td>5</td>\n",
       "      <td>Euphorbia balsamifera (f)</td>\n",
       "      <td>12</td>\n",
       "      <td>0.047751</td>\n",
       "      <td>32.0</td>\n",
       "      <td>True</td>\n",
       "      <td>35</td>\n",
       "      <td>14</td>\n",
       "    </tr>\n",
       "    <tr>\n",
       "      <th>49</th>\n",
       "      <td>297.566667</td>\n",
       "      <td>8</td>\n",
       "      <td>Euphorbia balsamifera (f)</td>\n",
       "      <td>9</td>\n",
       "      <td>0.057147</td>\n",
       "      <td>74.0</td>\n",
       "      <td>True</td>\n",
       "      <td>49</td>\n",
       "      <td>14</td>\n",
       "    </tr>\n",
       "  </tbody>\n",
       "</table>\n",
       "</div>"
      ],
      "text/plain": [
       "    betweenness  degree                       name  network  pagerank  \\\n",
       "40   101.000000       3  Euphorbia balsamifera (f)        6  0.050253   \n",
       "39   123.000000       5  Euphorbia balsamifera (f)        2  0.064480   \n",
       "36    93.916667       7  Euphorbia balsamifera (m)       12  0.103402   \n",
       "35    79.750000       5  Euphorbia balsamifera (f)       12  0.047751   \n",
       "49   297.566667       8  Euphorbia balsamifera (f)        9  0.057147   \n",
       "\n",
       "    strength  type  id  num_occurences  \n",
       "40      46.0  True  40              14  \n",
       "39      52.0  True  39              14  \n",
       "36      76.0  True  36              14  \n",
       "35      32.0  True  35              14  \n",
       "49      74.0  True  49              14  "
      ]
     },
     "execution_count": 12,
     "metadata": {},
     "output_type": "execute_result"
    }
   ],
   "source": [
    "all_df.sort_values('num_occurences', ascending = False).head()"
   ]
  },
  {
   "cell_type": "code",
   "execution_count": 13,
   "metadata": {
    "collapsed": false
   },
   "outputs": [
    {
     "data": {
      "text/html": [
       "<div>\n",
       "<table border=\"1\" class=\"dataframe\">\n",
       "  <thead>\n",
       "    <tr style=\"text-align: right;\">\n",
       "      <th></th>\n",
       "      <th>betweenness</th>\n",
       "      <th>degree</th>\n",
       "      <th>name</th>\n",
       "      <th>network</th>\n",
       "      <th>pagerank</th>\n",
       "      <th>strength</th>\n",
       "      <th>type</th>\n",
       "      <th>id</th>\n",
       "      <th>num_occurences</th>\n",
       "    </tr>\n",
       "  </thead>\n",
       "  <tbody>\n",
       "    <tr>\n",
       "      <th>7</th>\n",
       "      <td>712.083333</td>\n",
       "      <td>15</td>\n",
       "      <td>Camponotus feae</td>\n",
       "      <td>9</td>\n",
       "      <td>0.136175</td>\n",
       "      <td>195.0</td>\n",
       "      <td>False</td>\n",
       "      <td>7</td>\n",
       "      <td>11</td>\n",
       "    </tr>\n",
       "    <tr>\n",
       "      <th>9</th>\n",
       "      <td>274.024675</td>\n",
       "      <td>12</td>\n",
       "      <td>Camponotus feae</td>\n",
       "      <td>6</td>\n",
       "      <td>0.206666</td>\n",
       "      <td>187.0</td>\n",
       "      <td>False</td>\n",
       "      <td>9</td>\n",
       "      <td>11</td>\n",
       "    </tr>\n",
       "    <tr>\n",
       "      <th>39</th>\n",
       "      <td>294.900000</td>\n",
       "      <td>16</td>\n",
       "      <td>Euphorbia balsamifera (m)</td>\n",
       "      <td>3</td>\n",
       "      <td>0.170886</td>\n",
       "      <td>183.0</td>\n",
       "      <td>True</td>\n",
       "      <td>39</td>\n",
       "      <td>14</td>\n",
       "    </tr>\n",
       "    <tr>\n",
       "      <th>10</th>\n",
       "      <td>135.000000</td>\n",
       "      <td>7</td>\n",
       "      <td>Camponotus feae</td>\n",
       "      <td>5</td>\n",
       "      <td>0.158817</td>\n",
       "      <td>177.0</td>\n",
       "      <td>False</td>\n",
       "      <td>10</td>\n",
       "      <td>11</td>\n",
       "    </tr>\n",
       "    <tr>\n",
       "      <th>7</th>\n",
       "      <td>152.000000</td>\n",
       "      <td>12</td>\n",
       "      <td>Camponotus feae</td>\n",
       "      <td>8</td>\n",
       "      <td>0.153488</td>\n",
       "      <td>157.0</td>\n",
       "      <td>False</td>\n",
       "      <td>7</td>\n",
       "      <td>11</td>\n",
       "    </tr>\n",
       "  </tbody>\n",
       "</table>\n",
       "</div>"
      ],
      "text/plain": [
       "    betweenness  degree                       name  network  pagerank  \\\n",
       "7    712.083333      15            Camponotus feae        9  0.136175   \n",
       "9    274.024675      12            Camponotus feae        6  0.206666   \n",
       "39   294.900000      16  Euphorbia balsamifera (m)        3  0.170886   \n",
       "10   135.000000       7            Camponotus feae        5  0.158817   \n",
       "7    152.000000      12            Camponotus feae        8  0.153488   \n",
       "\n",
       "    strength   type  id  num_occurences  \n",
       "7      195.0  False   7              11  \n",
       "9      187.0  False   9              11  \n",
       "39     183.0   True  39              14  \n",
       "10     177.0  False  10              11  \n",
       "7      157.0  False   7              11  "
      ]
     },
     "execution_count": 13,
     "metadata": {},
     "output_type": "execute_result"
    }
   ],
   "source": [
    "all_df.sort_values('strength', ascending = False).head()"
   ]
  },
  {
   "cell_type": "code",
   "execution_count": 14,
   "metadata": {
    "collapsed": false
   },
   "outputs": [],
   "source": [
    "sahara_df = all_df[(all_df['network'] == 0) | (all_df['network'] == 1)]"
   ]
  },
  {
   "cell_type": "code",
   "execution_count": 15,
   "metadata": {
    "collapsed": false,
    "scrolled": false
   },
   "outputs": [
    {
     "data": {
      "text/html": [
       "<div>\n",
       "<table border=\"1\" class=\"dataframe\">\n",
       "  <thead>\n",
       "    <tr style=\"text-align: right;\">\n",
       "      <th></th>\n",
       "      <th>betweenness</th>\n",
       "      <th>degree</th>\n",
       "      <th>name</th>\n",
       "      <th>network</th>\n",
       "      <th>pagerank</th>\n",
       "      <th>strength</th>\n",
       "      <th>type</th>\n",
       "      <th>id</th>\n",
       "      <th>num_occurences</th>\n",
       "    </tr>\n",
       "  </thead>\n",
       "  <tbody>\n",
       "    <tr>\n",
       "      <th>47</th>\n",
       "      <td>1039.633333</td>\n",
       "      <td>22</td>\n",
       "      <td>Euphorbia balsamifera (m)</td>\n",
       "      <td>1</td>\n",
       "      <td>0.156012</td>\n",
       "      <td>92.0</td>\n",
       "      <td>True</td>\n",
       "      <td>47</td>\n",
       "      <td>14</td>\n",
       "    </tr>\n",
       "    <tr>\n",
       "      <th>39</th>\n",
       "      <td>510.500000</td>\n",
       "      <td>16</td>\n",
       "      <td>Euphorbia balsamifera (m)</td>\n",
       "      <td>0</td>\n",
       "      <td>0.155922</td>\n",
       "      <td>118.0</td>\n",
       "      <td>True</td>\n",
       "      <td>39</td>\n",
       "      <td>14</td>\n",
       "    </tr>\n",
       "    <tr>\n",
       "      <th>50</th>\n",
       "      <td>386.716667</td>\n",
       "      <td>12</td>\n",
       "      <td>Launaea arborescens</td>\n",
       "      <td>1</td>\n",
       "      <td>0.077522</td>\n",
       "      <td>39.0</td>\n",
       "      <td>True</td>\n",
       "      <td>50</td>\n",
       "      <td>12</td>\n",
       "    </tr>\n",
       "    <tr>\n",
       "      <th>38</th>\n",
       "      <td>170.833333</td>\n",
       "      <td>7</td>\n",
       "      <td>Euphorbia balsamifera (f)</td>\n",
       "      <td>0</td>\n",
       "      <td>0.073589</td>\n",
       "      <td>64.0</td>\n",
       "      <td>True</td>\n",
       "      <td>38</td>\n",
       "      <td>14</td>\n",
       "    </tr>\n",
       "    <tr>\n",
       "      <th>45</th>\n",
       "      <td>427.000000</td>\n",
       "      <td>9</td>\n",
       "      <td>Asparagus pastorianus</td>\n",
       "      <td>1</td>\n",
       "      <td>0.071988</td>\n",
       "      <td>50.0</td>\n",
       "      <td>True</td>\n",
       "      <td>45</td>\n",
       "      <td>2</td>\n",
       "    </tr>\n",
       "  </tbody>\n",
       "</table>\n",
       "</div>"
      ],
      "text/plain": [
       "    betweenness  degree                       name  network  pagerank  \\\n",
       "47  1039.633333      22  Euphorbia balsamifera (m)        1  0.156012   \n",
       "39   510.500000      16  Euphorbia balsamifera (m)        0  0.155922   \n",
       "50   386.716667      12        Launaea arborescens        1  0.077522   \n",
       "38   170.833333       7  Euphorbia balsamifera (f)        0  0.073589   \n",
       "45   427.000000       9      Asparagus pastorianus        1  0.071988   \n",
       "\n",
       "    strength  type  id  num_occurences  \n",
       "47      92.0  True  47              14  \n",
       "39     118.0  True  39              14  \n",
       "50      39.0  True  50              12  \n",
       "38      64.0  True  38              14  \n",
       "45      50.0  True  45               2  "
      ]
     },
     "execution_count": 15,
     "metadata": {},
     "output_type": "execute_result"
    }
   ],
   "source": [
    "sahara_df.sort_values('pagerank', ascending = False).head()"
   ]
  },
  {
   "cell_type": "code",
   "execution_count": 16,
   "metadata": {
    "collapsed": true
   },
   "outputs": [],
   "source": [
    "#check the correlation between a node's stats and the island's stats"
   ]
  },
  {
   "cell_type": "markdown",
   "metadata": {},
   "source": [
    "Playing with the idea of pearson correlations between a species stats in an island and the stats of the island itself.\n",
    "Thanks to Zhiya for the merge approach! \n",
    "\n",
    "The way it works: \n",
    "Take the all_df, and \"merge\" it with the stats of the island df\n",
    "This means that each row will also display the stats of the island it belongs to (pagerank_y, betweenness_y)\n",
    "\n",
    "_y = island stats, _x = species stats"
   ]
  },
  {
   "cell_type": "code",
   "execution_count": 17,
   "metadata": {
    "collapsed": false
   },
   "outputs": [],
   "source": [
    "#now, need to add the parameters of the island that each member is a part of to the all_df"
   ]
  },
  {
   "cell_type": "code",
   "execution_count": 18,
   "metadata": {
    "collapsed": true
   },
   "outputs": [],
   "source": [
    "all_df = all_df.merge(right=loc_df[['island', 'pagerank', 'betweenness', 'strength']], \\\n",
    "                right_on='island', left_on='network', how='left')"
   ]
  },
  {
   "cell_type": "code",
   "execution_count": 18,
   "metadata": {
    "collapsed": false
   },
   "outputs": [
    {
     "data": {
      "text/plain": [
       "(0.019143953725721585, 0.61361707781424846)"
      ]
     },
     "execution_count": 18,
     "metadata": {},
     "output_type": "execute_result"
    }
   ],
   "source": [
    "st.pearsonr(all_df['pagerank_x'], all_df['pagerank_y'])"
   ]
  },
  {
   "cell_type": "code",
   "execution_count": 19,
   "metadata": {
    "collapsed": false
   },
   "outputs": [
    {
     "data": {
      "text/plain": [
       "(1.0, 0.0)"
      ]
     },
     "execution_count": 19,
     "metadata": {},
     "output_type": "execute_result"
    }
   ],
   "source": [
    "st.pearsonr(all_df[all_df['name'] == 'Amegilla sp.']['betweenness_x'], all_df[all_df['name'] == 'Amegilla sp.']['betweenness_y'])"
   ]
  },
  {
   "cell_type": "code",
   "execution_count": 20,
   "metadata": {
    "collapsed": true
   },
   "outputs": [
    {
     "data": {
      "text/plain": [
       "(-0.0065155577124520921, 0.86356936341327784)"
      ]
     },
     "execution_count": 20,
     "metadata": {},
     "output_type": "execute_result"
    }
   ],
   "source": [
    "st.pearsonr(all_df['strength_x'], all_df['strength_y'])"
   ]
  },
  {
   "cell_type": "code",
   "execution_count": 21,
   "metadata": {
    "collapsed": false
   },
   "outputs": [
    {
     "data": {
      "text/plain": [
       "(0.7889603714963519, 0.00079566489232087254)"
      ]
     },
     "execution_count": 21,
     "metadata": {},
     "output_type": "execute_result"
    }
   ],
   "source": [
    "st.pearsonr(all_df[all_df['name'] == 'Euphorbia balsamifera (m)']['betweenness_x'], all_df[all_df['name'] == 'Euphorbia balsamifera (m)']['betweenness_y'])"
   ]
  },
  {
   "cell_type": "code",
   "execution_count": 22,
   "metadata": {
    "collapsed": false
   },
   "outputs": [
    {
     "data": {
      "text/plain": [
       "(0.7889603714963519, 0.00079566489232087254)"
      ]
     },
     "execution_count": 22,
     "metadata": {},
     "output_type": "execute_result"
    }
   ],
   "source": [
    "st.pearsonr(all_df[all_df['name'] == 'Euphorbia balsamifera (m)']['betweenness_x'], all_df[all_df['name'] == 'Euphorbia balsamifera (m)']['betweenness_y'])"
   ]
  },
  {
   "cell_type": "markdown",
   "metadata": {},
   "source": [
    "Only looking at the top-degreed nodes\n",
    "Trying some PR correlations and then plotting the PDF (no success)"
   ]
  },
  {
   "cell_type": "code",
   "execution_count": 23,
   "metadata": {
    "collapsed": false
   },
   "outputs": [],
   "source": [
    "top_deg = all_df.sort_values('degree',ascending = False).head(100)\n",
    "top_deg = set(top_deg['name'])\n",
    "top_deg = all_df[all_df['name'].isin(top_deg)]\n",
    "pr_corr = all_df.groupby('name')[['pagerank_x','pagerank_y']].corr('pearson', min_periods = 3).reset_index()\n",
    "pr_corr = pr_corr[(pr_corr['level_1'] == 'pagerank_x')]['pagerank_y'].dropna()"
   ]
  },
  {
   "cell_type": "code",
   "execution_count": 24,
   "metadata": {
    "collapsed": false
   },
   "outputs": [
    {
     "data": {
      "text/plain": [
       "<matplotlib.collections.PathCollection at 0x10fee0590>"
      ]
     },
     "execution_count": 24,
     "metadata": {},
     "output_type": "execute_result"
    },
    {
     "data": {
      "image/png": "[encoded data removed]",
      "text/plain": [
       "<matplotlib.figure.Figure at 0x10ff1f350>"
      ]
     },
     "metadata": {},
     "output_type": "display_data"
    }
   ],
   "source": [
    "hist, bins = np.histogram(pr_corr, bins=100, normed=True)\n",
    "bin_centers = (bins[1:]+bins[:-1])*0.5\n",
    "plt.scatter(bin_centers, hist)"
   ]
  },
  {
   "cell_type": "markdown",
   "metadata": {},
   "source": [
    "Constructing the multi-edged graph of locations\n",
    "Two edgetypes: 1/distance and # of species in common\n",
    "\n",
    "combos = list of edges between each of the 14 islands to every other island\n",
    "\n",
    "\"len(set(df[combos[i][0]]['name'].values).intersection(df[combos[i][1]]['name']))\" takes the species in either node connected by the edge, finds the common list, then takes the length \n",
    "\n",
    "add edges to the network corresponding to the two target networks, \n",
    "weighted separately (\"weight2\"): this is done to \"differentiate\" between the \"species count edges\" (weight2) and the distance edges (weight)\n",
    "\n"
   ]
  },
  {
   "cell_type": "code",
   "execution_count": 25,
   "metadata": {
    "collapsed": false
   },
   "outputs": [],
   "source": [
    "combos = list(it.combinations(g_locs.vs['name'], 2))\n",
    "for i in range(len(combos)):\n",
    "    match = len(set(df[combos[i][0]]['name'].values).intersection(df[combos[i][1]]['name']))\n",
    "    g_locs.add_edge(combos[i][0], combos[i][1], weight2 = match)"
   ]
  },
  {
   "cell_type": "markdown",
   "metadata": {},
   "source": [
    "Change the weights so that:\n",
    "Distance edges have nonzero weights, but 0 weight2s\n",
    "Species edges have 0 weights, but nonzero weight2s"
   ]
  },
  {
   "cell_type": "code",
   "execution_count": 26,
   "metadata": {
    "collapsed": true
   },
   "outputs": [],
   "source": [
    "for i in range(len(g_locs.get_edgelist())):\n",
    "    if g_locs.es[i]['weight'] == None:\n",
    "        g_locs.es[i]['weight'] = 0\n",
    "    if g_locs.es[i]['weight2'] == None:\n",
    "        g_locs.es[i]['weight2'] = 0\n",
    "   "
   ]
  },
  {
   "cell_type": "markdown",
   "metadata": {},
   "source": [
    "Recolor the edges to match their type, and add widths\n",
    "\n",
    "Edges assigned weights relative to their type \n",
    "(Edges of the first kind are weighted relative to others also of that kind, etc...)"
   ]
  },
  {
   "cell_type": "code",
   "execution_count": 27,
   "metadata": {
    "collapsed": false
   },
   "outputs": [],
   "source": [
    "#if weight = 0, then edge is of the species comparison type (those have weight2)\n",
    "for i in range(len(g_locs.get_edgelist())):\n",
    "    if g_locs.es[i]['weight'] != 0:\n",
    "        g_locs.es[i]['width'] = ig.rescale(g_locs.es[\"weight\"], out_range=(0.5, 3))[i]\n",
    "        g_locs.es[i]['color'] = 'black'\n",
    "    else:\n",
    "        g_locs.es[i]['width'] = ig.rescale(g_locs.es[\"weight2\"], out_range=(0,1))[i]\n",
    "        g_locs.es[i]['color'] = 'blue'\n"
   ]
  },
  {
   "cell_type": "code",
   "execution_count": 32,
   "metadata": {
    "collapsed": false
   },
   "outputs": [],
   "source": [
    "plot = ig.plot(g_locs,autocurve = True, layout = 'kk')\n",
    "plot.show()"
   ]
  },
  {
   "cell_type": "code",
   "execution_count": null,
   "metadata": {
    "collapsed": true
   },
   "outputs": [],
   "source": []
  }
 ],
 "metadata": {
  "kernelspec": {
   "display_name": "Python 2",
   "language": "python",
   "name": "python2"
  },
  "language_info": {
   "codemirror_mode": {
    "name": "ipython",
    "version": 2
   },
   "file_extension": ".py",
   "mimetype": "text/x-python",
   "name": "python",
   "nbconvert_exporter": "python",
   "pygments_lexer": "ipython2",
   "version": "2.7.10"
  }
 },
 "nbformat": 4,
 "nbformat_minor": 1
}
